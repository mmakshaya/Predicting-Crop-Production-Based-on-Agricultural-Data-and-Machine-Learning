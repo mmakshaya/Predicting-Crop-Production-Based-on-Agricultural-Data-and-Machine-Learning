{
 "cells": [
  {
   "cell_type": "code",
   "execution_count": 1,
   "id": "b18edd00",
   "metadata": {},
   "outputs": [],
   "source": [
    "import pandas as pd\n",
    "import numpy as np\n",
    "from sklearn.model_selection import train_test_split\n",
    "from sklearn.preprocessing import StandardScaler\n",
    "from sklearn.metrics import mean_squared_error, r2_score, mean_absolute_error\n",
    "from catboost import CatBoostRegressor, Pool\n",
    "from sklearn.neighbors import KNeighborsRegressor\n",
    "from sklearn.linear_model import LinearRegression\n",
    "from sklearn.tree import DecisionTreeRegressor\n",
    "from sklearn.ensemble import RandomForestRegressor\n",
    "import pickle"
   ]
  },
  {
   "cell_type": "code",
   "execution_count": 2,
   "id": "5e5aef9e",
   "metadata": {},
   "outputs": [],
   "source": [
    "df = pd.read_csv(\"newml.csv\")"
   ]
  },
  {
   "cell_type": "code",
   "execution_count": 3,
   "id": "7e47d77c",
   "metadata": {},
   "outputs": [],
   "source": [
    "features = ['Area_code', 'Element Code', 'Item_code', 'Year', 'Area_harvested', 'Yield']\n",
    "X = df[features]\n",
    "y = np.log1p(df['Production'])"
   ]
  },
  {
   "cell_type": "code",
   "execution_count": 4,
   "id": "5ce6e7bc",
   "metadata": {},
   "outputs": [],
   "source": [
    "X_train, X_test, y_train, y_test = train_test_split(X, y, test_size=0.2, random_state=42)"
   ]
  },
  {
   "cell_type": "code",
   "execution_count": 5,
   "id": "abe087ec",
   "metadata": {},
   "outputs": [
    {
     "name": "stdout",
     "output_type": "stream",
     "text": [
      "Mean squared Error 0.20145235411369855\n",
      "Mean absolute Error 0.16728780056347978\n",
      "R2 score 0.9451888607820002\n"
     ]
    }
   ],
   "source": [
    "model=RandomForestRegressor()\n",
    "model.fit(X_train,y_train)\n",
    "y_pred=model.predict(X_test)\n",
    "print(\"Mean squared Error\", mean_squared_error(y_test,y_pred))\n",
    "print(\"Mean absolute Error\", mean_absolute_error(y_test,y_pred))\n",
    "print(\"R2 score\", r2_score(y_test,y_pred))"
   ]
  },
  {
   "cell_type": "code",
   "execution_count": 42,
   "id": "425620af",
   "metadata": {},
   "outputs": [],
   "source": [
    "import pickle\n",
    "with open('random_forest_model.pkl', 'wb') as file:\n",
    "    pickle.dump(model, file)\n"
   ]
  },
  {
   "cell_type": "code",
   "execution_count": 6,
   "id": "4a1a8b90",
   "metadata": {},
   "outputs": [
    {
     "name": "stdout",
     "output_type": "stream",
     "text": [
      "Predicted Production 1: 17220.51\n",
      "Predicted Production 2: 7650.16\n",
      "Predicted Production 3: 1097.03\n"
     ]
    }
   ],
   "source": [
    "import pandas as pd\n",
    "\n",
    "input_values = pd.DataFrame([\n",
    "    [4, 5312, 111, 2019, 2334000, 5892.2],\n",
    "    [894, 5510, 1708, 2023, 3009, 5892.2],\n",
    "    [894, 5510, 1620, 2019, 3009, 5892.2]\n",
    "], columns=['Area_code', 'Element Code', 'Item_code', 'Year', 'Area_harvested', 'Yield'])\n",
    "\n",
    "y_pred_log = model.predict(input_values)\n",
    "y_pred_actual = np.expm1(y_pred_log)\n",
    "\n",
    "for i, val in enumerate(y_pred_actual):\n",
    "    print(f\"Predicted Production {i+1}: {val:.2f}\")\n"
   ]
  },
  {
   "cell_type": "code",
   "execution_count": 7,
   "id": "1b45757c",
   "metadata": {},
   "outputs": [
    {
     "name": "stdout",
     "output_type": "stream",
     "text": [
      "Train R²: 0.9923184829282623\n",
      "Test R²: 0.9451888607820002\n"
     ]
    }
   ],
   "source": [
    "from sklearn.metrics import mean_squared_error, r2_score\n",
    "\n",
    "# Training predictions\n",
    "y_train_pred = model.predict(X_train)\n",
    "# Testing predictions\n",
    "y_test_pred = model.predict(X_test)\n",
    "\n",
    "# Evaluate\n",
    "print(\"Train R²:\", r2_score(y_train, y_train_pred))\n",
    "print(\"Test R²:\", r2_score(y_test, y_test_pred))\n"
   ]
  },
  {
   "cell_type": "code",
   "execution_count": null,
   "id": "8872ab8c",
   "metadata": {},
   "outputs": [],
   "source": []
  }
 ],
 "metadata": {
  "kernelspec": {
   "display_name": "base",
   "language": "python",
   "name": "python3"
  },
  "language_info": {
   "codemirror_mode": {
    "name": "ipython",
    "version": 3
   },
   "file_extension": ".py",
   "mimetype": "text/x-python",
   "name": "python",
   "nbconvert_exporter": "python",
   "pygments_lexer": "ipython3",
   "version": "3.12.7"
  }
 },
 "nbformat": 4,
 "nbformat_minor": 5
}
