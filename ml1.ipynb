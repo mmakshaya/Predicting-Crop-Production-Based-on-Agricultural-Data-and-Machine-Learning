{
 "cells": [
  {
   "cell_type": "code",
   "execution_count": 1,
   "id": "56a08426",
   "metadata": {},
   "outputs": [],
   "source": [
    "import pandas as pd"
   ]
  },
  {
   "cell_type": "code",
   "execution_count": 2,
   "id": "0b4e2e2e",
   "metadata": {},
   "outputs": [],
   "source": [
    "df1=pd.read_csv(\"FAOSTAT_data - FAOSTAT_data_en_12-29-2024.csv\")"
   ]
  },
  {
   "cell_type": "code",
   "execution_count": 3,
   "id": "d943d776",
   "metadata": {},
   "outputs": [
    {
     "data": {
      "text/html": [
       "<div>\n",
       "<style scoped>\n",
       "    .dataframe tbody tr th:only-of-type {\n",
       "        vertical-align: middle;\n",
       "    }\n",
       "\n",
       "    .dataframe tbody tr th {\n",
       "        vertical-align: top;\n",
       "    }\n",
       "\n",
       "    .dataframe thead th {\n",
       "        text-align: right;\n",
       "    }\n",
       "</style>\n",
       "<table border=\"1\" class=\"dataframe\">\n",
       "  <thead>\n",
       "    <tr style=\"text-align: right;\">\n",
       "      <th></th>\n",
       "      <th>Domain Code</th>\n",
       "      <th>Domain</th>\n",
       "      <th>Area Code (M49)</th>\n",
       "      <th>Area</th>\n",
       "      <th>Element Code</th>\n",
       "      <th>Element</th>\n",
       "      <th>Item Code (CPC)</th>\n",
       "      <th>Item</th>\n",
       "      <th>Year Code</th>\n",
       "      <th>Year</th>\n",
       "      <th>Unit</th>\n",
       "      <th>Value</th>\n",
       "      <th>Flag</th>\n",
       "      <th>Flag Description</th>\n",
       "      <th>Note</th>\n",
       "    </tr>\n",
       "  </thead>\n",
       "  <tbody>\n",
       "    <tr>\n",
       "      <th>0</th>\n",
       "      <td>QCL</td>\n",
       "      <td>Crops and livestock products</td>\n",
       "      <td>4</td>\n",
       "      <td>Afghanistan</td>\n",
       "      <td>5312</td>\n",
       "      <td>Area harvested</td>\n",
       "      <td>1371</td>\n",
       "      <td>Almonds, in shell</td>\n",
       "      <td>2019</td>\n",
       "      <td>2019</td>\n",
       "      <td>ha</td>\n",
       "      <td>29203.00</td>\n",
       "      <td>A</td>\n",
       "      <td>Official figure</td>\n",
       "      <td>NaN</td>\n",
       "    </tr>\n",
       "    <tr>\n",
       "      <th>1</th>\n",
       "      <td>QCL</td>\n",
       "      <td>Crops and livestock products</td>\n",
       "      <td>4</td>\n",
       "      <td>Afghanistan</td>\n",
       "      <td>5412</td>\n",
       "      <td>Yield</td>\n",
       "      <td>1371</td>\n",
       "      <td>Almonds, in shell</td>\n",
       "      <td>2019</td>\n",
       "      <td>2019</td>\n",
       "      <td>kg/ha</td>\n",
       "      <td>1308.30</td>\n",
       "      <td>A</td>\n",
       "      <td>Official figure</td>\n",
       "      <td>NaN</td>\n",
       "    </tr>\n",
       "    <tr>\n",
       "      <th>2</th>\n",
       "      <td>QCL</td>\n",
       "      <td>Crops and livestock products</td>\n",
       "      <td>4</td>\n",
       "      <td>Afghanistan</td>\n",
       "      <td>5510</td>\n",
       "      <td>Production</td>\n",
       "      <td>1371</td>\n",
       "      <td>Almonds, in shell</td>\n",
       "      <td>2019</td>\n",
       "      <td>2019</td>\n",
       "      <td>t</td>\n",
       "      <td>38205.00</td>\n",
       "      <td>A</td>\n",
       "      <td>Official figure</td>\n",
       "      <td>NaN</td>\n",
       "    </tr>\n",
       "    <tr>\n",
       "      <th>3</th>\n",
       "      <td>QCL</td>\n",
       "      <td>Crops and livestock products</td>\n",
       "      <td>4</td>\n",
       "      <td>Afghanistan</td>\n",
       "      <td>5312</td>\n",
       "      <td>Area harvested</td>\n",
       "      <td>1371</td>\n",
       "      <td>Almonds, in shell</td>\n",
       "      <td>2020</td>\n",
       "      <td>2020</td>\n",
       "      <td>ha</td>\n",
       "      <td>22134.00</td>\n",
       "      <td>A</td>\n",
       "      <td>Official figure</td>\n",
       "      <td>NaN</td>\n",
       "    </tr>\n",
       "    <tr>\n",
       "      <th>4</th>\n",
       "      <td>QCL</td>\n",
       "      <td>Crops and livestock products</td>\n",
       "      <td>4</td>\n",
       "      <td>Afghanistan</td>\n",
       "      <td>5412</td>\n",
       "      <td>Yield</td>\n",
       "      <td>1371</td>\n",
       "      <td>Almonds, in shell</td>\n",
       "      <td>2020</td>\n",
       "      <td>2020</td>\n",
       "      <td>kg/ha</td>\n",
       "      <td>1775.90</td>\n",
       "      <td>A</td>\n",
       "      <td>Official figure</td>\n",
       "      <td>NaN</td>\n",
       "    </tr>\n",
       "    <tr>\n",
       "      <th>...</th>\n",
       "      <td>...</td>\n",
       "      <td>...</td>\n",
       "      <td>...</td>\n",
       "      <td>...</td>\n",
       "      <td>...</td>\n",
       "      <td>...</td>\n",
       "      <td>...</td>\n",
       "      <td>...</td>\n",
       "      <td>...</td>\n",
       "      <td>...</td>\n",
       "      <td>...</td>\n",
       "      <td>...</td>\n",
       "      <td>...</td>\n",
       "      <td>...</td>\n",
       "      <td>...</td>\n",
       "    </tr>\n",
       "    <tr>\n",
       "      <th>224642</th>\n",
       "      <td>QCL</td>\n",
       "      <td>Crops and livestock products</td>\n",
       "      <td>716</td>\n",
       "      <td>Zimbabwe</td>\n",
       "      <td>5510</td>\n",
       "      <td>Production</td>\n",
       "      <td>22221.01</td>\n",
       "      <td>Whole milk, evaporated</td>\n",
       "      <td>2019</td>\n",
       "      <td>2019</td>\n",
       "      <td>t</td>\n",
       "      <td>5010.21</td>\n",
       "      <td>I</td>\n",
       "      <td>Imputed value</td>\n",
       "      <td>NaN</td>\n",
       "    </tr>\n",
       "    <tr>\n",
       "      <th>224643</th>\n",
       "      <td>QCL</td>\n",
       "      <td>Crops and livestock products</td>\n",
       "      <td>716</td>\n",
       "      <td>Zimbabwe</td>\n",
       "      <td>5510</td>\n",
       "      <td>Production</td>\n",
       "      <td>22221.01</td>\n",
       "      <td>Whole milk, evaporated</td>\n",
       "      <td>2020</td>\n",
       "      <td>2020</td>\n",
       "      <td>t</td>\n",
       "      <td>4795.70</td>\n",
       "      <td>I</td>\n",
       "      <td>Imputed value</td>\n",
       "      <td>NaN</td>\n",
       "    </tr>\n",
       "    <tr>\n",
       "      <th>224644</th>\n",
       "      <td>QCL</td>\n",
       "      <td>Crops and livestock products</td>\n",
       "      <td>716</td>\n",
       "      <td>Zimbabwe</td>\n",
       "      <td>5510</td>\n",
       "      <td>Production</td>\n",
       "      <td>22221.01</td>\n",
       "      <td>Whole milk, evaporated</td>\n",
       "      <td>2021</td>\n",
       "      <td>2021</td>\n",
       "      <td>t</td>\n",
       "      <td>4921.05</td>\n",
       "      <td>I</td>\n",
       "      <td>Imputed value</td>\n",
       "      <td>NaN</td>\n",
       "    </tr>\n",
       "    <tr>\n",
       "      <th>224645</th>\n",
       "      <td>QCL</td>\n",
       "      <td>Crops and livestock products</td>\n",
       "      <td>716</td>\n",
       "      <td>Zimbabwe</td>\n",
       "      <td>5510</td>\n",
       "      <td>Production</td>\n",
       "      <td>22221.01</td>\n",
       "      <td>Whole milk, evaporated</td>\n",
       "      <td>2022</td>\n",
       "      <td>2022</td>\n",
       "      <td>t</td>\n",
       "      <td>4966.37</td>\n",
       "      <td>I</td>\n",
       "      <td>Imputed value</td>\n",
       "      <td>NaN</td>\n",
       "    </tr>\n",
       "    <tr>\n",
       "      <th>224646</th>\n",
       "      <td>QCL</td>\n",
       "      <td>Crops and livestock products</td>\n",
       "      <td>716</td>\n",
       "      <td>Zimbabwe</td>\n",
       "      <td>5510</td>\n",
       "      <td>Production</td>\n",
       "      <td>24212.02</td>\n",
       "      <td>Wine</td>\n",
       "      <td>2019</td>\n",
       "      <td>2019</td>\n",
       "      <td>t</td>\n",
       "      <td>NaN</td>\n",
       "      <td>A</td>\n",
       "      <td>Official figure</td>\n",
       "      <td>NaN</td>\n",
       "    </tr>\n",
       "  </tbody>\n",
       "</table>\n",
       "<p>224647 rows × 15 columns</p>\n",
       "</div>"
      ],
      "text/plain": [
       "       Domain Code                        Domain  Area Code (M49)  \\\n",
       "0              QCL  Crops and livestock products                4   \n",
       "1              QCL  Crops and livestock products                4   \n",
       "2              QCL  Crops and livestock products                4   \n",
       "3              QCL  Crops and livestock products                4   \n",
       "4              QCL  Crops and livestock products                4   \n",
       "...            ...                           ...              ...   \n",
       "224642         QCL  Crops and livestock products              716   \n",
       "224643         QCL  Crops and livestock products              716   \n",
       "224644         QCL  Crops and livestock products              716   \n",
       "224645         QCL  Crops and livestock products              716   \n",
       "224646         QCL  Crops and livestock products              716   \n",
       "\n",
       "               Area  Element Code         Element Item Code (CPC)  \\\n",
       "0       Afghanistan          5312  Area harvested            1371   \n",
       "1       Afghanistan          5412           Yield            1371   \n",
       "2       Afghanistan          5510      Production            1371   \n",
       "3       Afghanistan          5312  Area harvested            1371   \n",
       "4       Afghanistan          5412           Yield            1371   \n",
       "...             ...           ...             ...             ...   \n",
       "224642     Zimbabwe          5510      Production        22221.01   \n",
       "224643     Zimbabwe          5510      Production        22221.01   \n",
       "224644     Zimbabwe          5510      Production        22221.01   \n",
       "224645     Zimbabwe          5510      Production        22221.01   \n",
       "224646     Zimbabwe          5510      Production        24212.02   \n",
       "\n",
       "                          Item  Year Code  Year   Unit     Value Flag  \\\n",
       "0            Almonds, in shell       2019  2019     ha  29203.00    A   \n",
       "1            Almonds, in shell       2019  2019  kg/ha   1308.30    A   \n",
       "2            Almonds, in shell       2019  2019      t  38205.00    A   \n",
       "3            Almonds, in shell       2020  2020     ha  22134.00    A   \n",
       "4            Almonds, in shell       2020  2020  kg/ha   1775.90    A   \n",
       "...                        ...        ...   ...    ...       ...  ...   \n",
       "224642  Whole milk, evaporated       2019  2019      t   5010.21    I   \n",
       "224643  Whole milk, evaporated       2020  2020      t   4795.70    I   \n",
       "224644  Whole milk, evaporated       2021  2021      t   4921.05    I   \n",
       "224645  Whole milk, evaporated       2022  2022      t   4966.37    I   \n",
       "224646                    Wine       2019  2019      t       NaN    A   \n",
       "\n",
       "       Flag Description Note  \n",
       "0       Official figure  NaN  \n",
       "1       Official figure  NaN  \n",
       "2       Official figure  NaN  \n",
       "3       Official figure  NaN  \n",
       "4       Official figure  NaN  \n",
       "...                 ...  ...  \n",
       "224642    Imputed value  NaN  \n",
       "224643    Imputed value  NaN  \n",
       "224644    Imputed value  NaN  \n",
       "224645    Imputed value  NaN  \n",
       "224646  Official figure  NaN  \n",
       "\n",
       "[224647 rows x 15 columns]"
      ]
     },
     "execution_count": 3,
     "metadata": {},
     "output_type": "execute_result"
    }
   ],
   "source": [
    "df1"
   ]
  },
  {
   "cell_type": "code",
   "execution_count": 4,
   "id": "2a92bc5d",
   "metadata": {},
   "outputs": [],
   "source": [
    "df= df1.pivot_table(\n",
    "    index=['Area Code (M49)','Area','Element Code','Item Code (CPC)','Item','Year','Unit'],    # Grouping keys\n",
    "    columns='Element',                # Values in 'Element' become new columns\n",
    "    values='Value',                   # Fill values from this column\n",
    "    aggfunc='first'                   # In case of duplicates\n",
    ").reset_index()"
   ]
  },
  {
   "cell_type": "code",
   "execution_count": 5,
   "id": "8a794920",
   "metadata": {},
   "outputs": [],
   "source": [
    "exclude_keywords = [\n",
    "    'Cattle', 'Camels', 'Sheep', 'Goats', 'Horses', 'Asses', 'Hen eggs in shell, fresh',\n",
    "    'Eggs from other birds in shell, fresh, n.e.c.', 'Mules and hinnies', 'Chickens',\n",
    "    'Raw milk of cattle', 'Raw milk of sheep', 'Raw milk of goats', 'Raw milk of camel',\n",
    "    'Meat of cattle with the bone, fresh or chilled', 'Meat of sheep, fresh or chilled',\n",
    "    'Meat of goat, fresh or chilled', 'Meat of camels, fresh or chilled',\n",
    "    'Edible offal of cattle, fresh, chilled or frozen', 'Edible offal of sheep, fresh, chilled or frozen',\n",
    "    'Edible offal of goat, fresh, chilled or frozen', 'Edible offals of camels and other camelids, fresh, chilled or frozen',\n",
    "    'Cattle fat, unrendered', 'Sheep fat, unrendered', 'Goat fat, unrendered', 'Fat of camels',\n",
    "    'Raw hides and skins of cattle', 'Raw hides and skins of sheep or lambs',\n",
    "    'Raw hides and skins of goats or kids', 'Meat of chickens, fresh or chilled',\n",
    "    'Game meat, fresh, chilled or frozen', 'Buttermilk, dry', 'Butter of cow milk',\n",
    "    'Butter and ghee of sheep milk', 'Cheese from milk of sheep, fresh or processed',\n",
    "    'Cheese from milk of goats, fresh or processed', 'Raw silk (not thrown)', 'Natural honey',\n",
    "    'Shorn wool, greasy, including fleece-washed shorn wool', 'Silk-worm cocoons suitable for reeling',\n",
    "    'Buffalo', 'Swine / pigs', 'Turkeys', 'Bees', 'Raw milk of buffalo',\n",
    "    'Meat of buffalo, fresh or chilled', 'Meat of pig with the bone, fresh or chilled',\n",
    "    'Horse meat, fresh or chilled', 'Meat of asses, fresh or chilled',\n",
    "    'Edible offal of buffalo, fresh, chilled or frozen', 'Edible offal of pigs, fresh, chilled or frozen',\n",
    "    'Edible offals of horses and other equines,  fresh, chilled or frozen',\n",
    "    'Fat of pigs', 'Buffalo fat, unrendered', 'Raw hides and skins of buffaloes',\n",
    "    'Meat of turkeys, fresh or chilled', 'Mushrooms and truffles', 'Other meat of mammals, fresh or chilled',\n",
    "    'Meat of rabbits and hares, fresh or chilled', 'Cheese from skimmed cow milk',\n",
    "    'Pig fat, rendered', 'Meat of ducks, fresh or chilled', 'Meat of geese, fresh or chilled',\n",
    "    'Tallow', 'Cream, fresh', 'Whey, dry', 'Whole milk powder', 'Skim milk and whey powder',\n",
    "    'Whole milk, evaporated', 'Whole milk, condensed', 'Ghee from cow milk',\n",
    "    'Whey, condensed', 'Skim milk, condensed', 'Yoghurt',\n",
    "    'Cheese from milk of buffalo, fresh or processed', 'Butter of buffalo milk',\n",
    "    'Ghee from buffalo milk', 'Meat of other domestic camelids, fresh or chilled',\n",
    "    'Meat of other domestic rodents, fresh or chilled', 'Meat of pigeons and other birds n.e.c., fresh, chilled or frozen',\n",
    "    'Skim milk, evaporated', 'Snails, fresh, chilled, frozen, dried, salted or in brine, except sea snails',\n",
    "    'Raw milk of buffalo'\n",
    "]\n",
    "\n",
    "# Use `isin()` with negation to filter out the rows\n",
    "df = df[~df['Item'].isin(exclude_keywords)]\n"
   ]
  },
  {
   "cell_type": "code",
   "execution_count": 6,
   "id": "907411ce",
   "metadata": {},
   "outputs": [
    {
     "data": {
      "text/plain": [
       "(150069, 15)"
      ]
     },
     "execution_count": 6,
     "metadata": {},
     "output_type": "execute_result"
    }
   ],
   "source": [
    "df.shape"
   ]
  },
  {
   "cell_type": "code",
   "execution_count": 7,
   "id": "670cf309",
   "metadata": {},
   "outputs": [],
   "source": [
    "df['Year'] = pd.to_datetime(df['Year'], format='%Y')"
   ]
  },
  {
   "cell_type": "code",
   "execution_count": 8,
   "id": "a4e35579",
   "metadata": {},
   "outputs": [
    {
     "data": {
      "text/plain": [
       "Element\n",
       "Area Code (M49)                       0\n",
       "Area                                  0\n",
       "Element Code                          0\n",
       "Item Code (CPC)                       0\n",
       "Item                                  0\n",
       "Year                                  0\n",
       "Unit                                  0\n",
       "Area harvested                   102170\n",
       "Laying                           150069\n",
       "Milk Animals                     150069\n",
       "Producing Animals/Slaughtered    150054\n",
       "Production                        93855\n",
       "Stocks                           149123\n",
       "Yield                            105089\n",
       "Yield/Carcass Weight             150054\n",
       "dtype: int64"
      ]
     },
     "execution_count": 8,
     "metadata": {},
     "output_type": "execute_result"
    }
   ],
   "source": [
    "df.isna().sum()  "
   ]
  },
  {
   "cell_type": "code",
   "execution_count": 9,
   "id": "454ea922",
   "metadata": {},
   "outputs": [],
   "source": [
    "columns_to_remove=[\"Yield/Carcass Weight\",\"Laying\",\"Milk Animals\",\"Producing Animals/Slaughtered\",\"Stocks\"]\n",
    "df=df.drop(columns=columns_to_remove)"
   ]
  },
  {
   "cell_type": "code",
   "execution_count": 10,
   "id": "cbaee2db",
   "metadata": {},
   "outputs": [],
   "source": [
    "df = df.fillna(df.median(numeric_only=True))"
   ]
  },
  {
   "cell_type": "code",
   "execution_count": 11,
   "id": "4b2d0546",
   "metadata": {},
   "outputs": [
    {
     "name": "stdout",
     "output_type": "stream",
     "text": [
      "❌ The following items have multiple item codes:\n",
      "Item\n",
      "Grapes    2\n",
      "Name: Item Code (CPC), dtype: int64\n"
     ]
    }
   ],
   "source": [
    "item_code_counts = df.groupby('Item')['Item Code (CPC)'].nunique()\n",
    "non_unique_items = item_code_counts[item_code_counts > 1]\n",
    "if non_unique_items.empty:\n",
    "    print(\"✅ Each item has a unique item code.\")\n",
    "else:\n",
    "    print(\"❌ The following items have multiple item codes:\")\n",
    "    print(non_unique_items)"
   ]
  },
  {
   "cell_type": "code",
   "execution_count": 12,
   "id": "aa8bf8f0",
   "metadata": {},
   "outputs": [],
   "source": [
    "df.loc[df['Item'] == 'Grapes', 'Item Code (CPC)'] = 1330"
   ]
  },
  {
   "cell_type": "code",
   "execution_count": 13,
   "id": "e0718c72",
   "metadata": {},
   "outputs": [],
   "source": [
    "df['Area'] = df['Area'].replace({\n",
    "    \"C�te d'Ivoire\": \"Ivory Coast\",\n",
    "    \"Côte d'Ivoire\": \"Ivory Coast\"\n",
    "})"
   ]
  },
  {
   "cell_type": "code",
   "execution_count": 14,
   "id": "2fc0522c",
   "metadata": {},
   "outputs": [],
   "source": [
    "\n",
    "df['Area'] = df['Area'].replace({\n",
    "    \"T�rkiye\": \"Turkey\",\n",
    "    \"Türkiye\": \"Turkey\"\n",
    "})"
   ]
  },
  {
   "cell_type": "code",
   "execution_count": 15,
   "id": "5d4c4329",
   "metadata": {},
   "outputs": [
    {
     "data": {
      "text/plain": [
       "array(['Afghanistan', 'Albania', 'Algeria', 'Angola',\n",
       "       'Antigua and Barbuda', 'Azerbaijan', 'Argentina', 'Australia',\n",
       "       'Austria', 'Bahamas', 'Bahrain', 'Bangladesh', 'Armenia',\n",
       "       'Barbados', 'Belgium', 'Bhutan',\n",
       "       'Bolivia (Plurinational State of)', 'Bosnia and Herzegovina',\n",
       "       'Botswana', 'Brazil', 'Belize', 'Solomon Islands',\n",
       "       'Brunei Darussalam', 'Bulgaria', 'Myanmar', 'Burundi', 'Belarus',\n",
       "       'Cambodia', 'Cameroon', 'Canada', 'Cabo Verde',\n",
       "       'Central African Republic', 'Sri Lanka', 'Chad', 'Chile',\n",
       "       'China, mainland', 'China, Taiwan Province of', 'China',\n",
       "       'Colombia', 'Comoros', 'Congo', 'Democratic Republic of the Congo',\n",
       "       'Cook Islands', 'Costa Rica', 'Croatia', 'Cuba', 'Cyprus',\n",
       "       'Czechia', 'Benin', 'Denmark', 'Dominica', 'Dominican Republic',\n",
       "       'Ecuador', 'El Salvador', 'Equatorial Guinea', 'Ethiopia',\n",
       "       'Eritrea', 'Estonia', 'Faroe Islands', 'Fiji', 'Finland', 'France',\n",
       "       'French Polynesia', 'Djibouti', 'Gabon', 'Georgia', 'Gambia',\n",
       "       'Palestine', 'Germany', 'Ghana', 'Kiribati', 'Greece', 'Grenada',\n",
       "       'Guatemala', 'Guinea', 'Guyana', 'Haiti', 'Honduras',\n",
       "       'China, Hong Kong SAR', 'Hungary', 'Iceland', 'India', 'Indonesia',\n",
       "       'Iran (Islamic Republic of)', 'Iraq', 'Ireland', 'Israel', 'Italy',\n",
       "       'Ivory Coast', 'Jamaica', 'Japan', 'Kazakhstan', 'Jordan', 'Kenya',\n",
       "       \"Democratic People's Republic of Korea\", 'Republic of Korea',\n",
       "       'Kuwait', 'Kyrgyzstan', \"Lao People's Democratic Republic\",\n",
       "       'Lebanon', 'Lesotho', 'Latvia', 'Liberia', 'Libya', 'Lithuania',\n",
       "       'Luxembourg', 'China, Macao SAR', 'Madagascar', 'Malawi',\n",
       "       'Malaysia', 'Maldives', 'Mali', 'Malta', 'Mauritania', 'Mauritius',\n",
       "       'Mexico', 'Mongolia', 'Republic of Moldova', 'Montenegro',\n",
       "       'Morocco', 'Mozambique', 'Oman', 'Namibia', 'Nauru', 'Nepal',\n",
       "       'Netherlands (Kingdom of the)', 'New Caledonia', 'Vanuatu',\n",
       "       'New Zealand', 'Nicaragua', 'Niger', 'Nigeria', 'Niue', 'Norway',\n",
       "       'Micronesia (Federated States of)', 'Marshall Islands', 'Pakistan',\n",
       "       'Panama', 'Papua New Guinea', 'Paraguay', 'Peru', 'Philippines',\n",
       "       'Poland', 'Portugal', 'Guinea-Bissau', 'Timor-Leste',\n",
       "       'Puerto Rico', 'Qatar', 'Romania', 'Russian Federation', 'Rwanda',\n",
       "       'Saint Kitts and Nevis', 'Saint Lucia',\n",
       "       'Saint Vincent and the Grenadines', 'Sao Tome and Principe',\n",
       "       'Saudi Arabia', 'Senegal', 'Serbia', 'Seychelles', 'Sierra Leone',\n",
       "       'Singapore', 'Slovakia', 'Viet Nam', 'Slovenia', 'Somalia',\n",
       "       'South Africa', 'Zimbabwe', 'Spain', 'South Sudan', 'Sudan',\n",
       "       'Suriname', 'Eswatini', 'Sweden', 'Switzerland',\n",
       "       'Syrian Arab Republic', 'Tajikistan', 'Thailand', 'Togo',\n",
       "       'Tokelau', 'Tonga', 'Trinidad and Tobago', 'United Arab Emirates',\n",
       "       'Tunisia', 'Turkey', 'Turkmenistan', 'Tuvalu', 'Uganda', 'Ukraine',\n",
       "       'North Macedonia', 'Egypt',\n",
       "       'United Kingdom of Great Britain and Northern Ireland',\n",
       "       'United Republic of Tanzania', 'United States of America',\n",
       "       'Burkina Faso', 'Uruguay', 'Uzbekistan',\n",
       "       'Venezuela (Bolivarian Republic of)', 'Samoa', 'Yemen', 'Zambia'],\n",
       "      dtype=object)"
      ]
     },
     "execution_count": 15,
     "metadata": {},
     "output_type": "execute_result"
    }
   ],
   "source": [
    "df['Area'].unique()"
   ]
  },
  {
   "cell_type": "code",
   "execution_count": 16,
   "id": "d0f21ed6",
   "metadata": {},
   "outputs": [
    {
     "data": {
      "text/plain": [
       "Element\n",
       "Area Code (M49)             int64\n",
       "Area                       object\n",
       "Element Code                int64\n",
       "Item Code (CPC)            object\n",
       "Item                       object\n",
       "Year               datetime64[ns]\n",
       "Unit                       object\n",
       "Area harvested            float64\n",
       "Production                float64\n",
       "Yield                     float64\n",
       "dtype: object"
      ]
     },
     "execution_count": 16,
     "metadata": {},
     "output_type": "execute_result"
    }
   ],
   "source": [
    "df.dtypes"
   ]
  },
  {
   "cell_type": "code",
   "execution_count": 17,
   "id": "d9da784f",
   "metadata": {},
   "outputs": [
    {
     "data": {
      "text/plain": [
       "Element\n",
       "Area Code (M49)    0\n",
       "Area               0\n",
       "Element Code       0\n",
       "Item Code (CPC)    0\n",
       "Item               0\n",
       "Year               0\n",
       "Unit               0\n",
       "Area harvested     0\n",
       "Production         0\n",
       "Yield              0\n",
       "dtype: int64"
      ]
     },
     "execution_count": 17,
     "metadata": {},
     "output_type": "execute_result"
    }
   ],
   "source": [
    "df.isna().sum()"
   ]
  },
  {
   "cell_type": "code",
   "execution_count": 18,
   "id": "3e2cff72",
   "metadata": {},
   "outputs": [
    {
     "data": {
      "text/plain": [
       "Index(['Area Code (M49)', 'Area', 'Element Code', 'Item Code (CPC)', 'Item',\n",
       "       'Year', 'Unit', 'Area harvested', 'Production', 'Yield'],\n",
       "      dtype='object', name='Element')"
      ]
     },
     "execution_count": 18,
     "metadata": {},
     "output_type": "execute_result"
    }
   ],
   "source": [
    "df.columns"
   ]
  },
  {
   "cell_type": "code",
   "execution_count": 19,
   "id": "d88a8449",
   "metadata": {},
   "outputs": [],
   "source": [
    "df.rename(columns={'Production': 'Production (t)'}, inplace=True)"
   ]
  },
  {
   "cell_type": "code",
   "execution_count": 20,
   "id": "6a9bbae6",
   "metadata": {},
   "outputs": [],
   "source": [
    "df.rename(columns={'Area harvested': 'Area harvested (ha)'}, inplace=True)"
   ]
  },
  {
   "cell_type": "code",
   "execution_count": 21,
   "id": "438fb53f",
   "metadata": {},
   "outputs": [],
   "source": [
    "df.rename(columns={'Yield': 'Yield (kg/ha)'}, inplace=True)"
   ]
  },
  {
   "cell_type": "code",
   "execution_count": 22,
   "id": "314a30ec",
   "metadata": {},
   "outputs": [],
   "source": [
    "df.drop(columns=['Unit'], inplace=True)"
   ]
  },
  {
   "cell_type": "code",
   "execution_count": 23,
   "id": "03108257",
   "metadata": {},
   "outputs": [
    {
     "data": {
      "text/plain": [
       "193"
      ]
     },
     "execution_count": 23,
     "metadata": {},
     "output_type": "execute_result"
    }
   ],
   "source": [
    "df['Item'].nunique()"
   ]
  },
  {
   "cell_type": "code",
   "execution_count": 24,
   "id": "b03aa18e",
   "metadata": {},
   "outputs": [
    {
     "data": {
      "text/html": [
       "<div>\n",
       "<style scoped>\n",
       "    .dataframe tbody tr th:only-of-type {\n",
       "        vertical-align: middle;\n",
       "    }\n",
       "\n",
       "    .dataframe tbody tr th {\n",
       "        vertical-align: top;\n",
       "    }\n",
       "\n",
       "    .dataframe thead th {\n",
       "        text-align: right;\n",
       "    }\n",
       "</style>\n",
       "<table border=\"1\" class=\"dataframe\">\n",
       "  <thead>\n",
       "    <tr style=\"text-align: right;\">\n",
       "      <th>Element</th>\n",
       "      <th>Area Code (M49)</th>\n",
       "      <th>Area</th>\n",
       "      <th>Element Code</th>\n",
       "      <th>Item Code (CPC)</th>\n",
       "      <th>Item</th>\n",
       "      <th>Year</th>\n",
       "      <th>Area harvested (ha)</th>\n",
       "      <th>Production (t)</th>\n",
       "      <th>Yield (kg/ha)</th>\n",
       "    </tr>\n",
       "  </thead>\n",
       "  <tbody>\n",
       "    <tr>\n",
       "      <th>40</th>\n",
       "      <td>4</td>\n",
       "      <td>Afghanistan</td>\n",
       "      <td>5312</td>\n",
       "      <td>111</td>\n",
       "      <td>Wheat</td>\n",
       "      <td>2019-01-01</td>\n",
       "      <td>2334000.0</td>\n",
       "      <td>17220.51</td>\n",
       "      <td>5892.2</td>\n",
       "    </tr>\n",
       "    <tr>\n",
       "      <th>41</th>\n",
       "      <td>4</td>\n",
       "      <td>Afghanistan</td>\n",
       "      <td>5312</td>\n",
       "      <td>111</td>\n",
       "      <td>Wheat</td>\n",
       "      <td>2020-01-01</td>\n",
       "      <td>2668000.0</td>\n",
       "      <td>17220.51</td>\n",
       "      <td>5892.2</td>\n",
       "    </tr>\n",
       "    <tr>\n",
       "      <th>42</th>\n",
       "      <td>4</td>\n",
       "      <td>Afghanistan</td>\n",
       "      <td>5312</td>\n",
       "      <td>111</td>\n",
       "      <td>Wheat</td>\n",
       "      <td>2021-01-01</td>\n",
       "      <td>2046564.0</td>\n",
       "      <td>17220.51</td>\n",
       "      <td>5892.2</td>\n",
       "    </tr>\n",
       "    <tr>\n",
       "      <th>43</th>\n",
       "      <td>4</td>\n",
       "      <td>Afghanistan</td>\n",
       "      <td>5312</td>\n",
       "      <td>111</td>\n",
       "      <td>Wheat</td>\n",
       "      <td>2022-01-01</td>\n",
       "      <td>1859339.0</td>\n",
       "      <td>17220.51</td>\n",
       "      <td>5892.2</td>\n",
       "    </tr>\n",
       "    <tr>\n",
       "      <th>44</th>\n",
       "      <td>4</td>\n",
       "      <td>Afghanistan</td>\n",
       "      <td>5312</td>\n",
       "      <td>111</td>\n",
       "      <td>Wheat</td>\n",
       "      <td>2023-01-01</td>\n",
       "      <td>2003070.0</td>\n",
       "      <td>17220.51</td>\n",
       "      <td>5892.2</td>\n",
       "    </tr>\n",
       "    <tr>\n",
       "      <th>...</th>\n",
       "      <td>...</td>\n",
       "      <td>...</td>\n",
       "      <td>...</td>\n",
       "      <td>...</td>\n",
       "      <td>...</td>\n",
       "      <td>...</td>\n",
       "      <td>...</td>\n",
       "      <td>...</td>\n",
       "      <td>...</td>\n",
       "    </tr>\n",
       "    <tr>\n",
       "      <th>218114</th>\n",
       "      <td>894</td>\n",
       "      <td>Zambia</td>\n",
       "      <td>5510</td>\n",
       "      <td>1708</td>\n",
       "      <td>Bambara beans, dry</td>\n",
       "      <td>2019-01-01</td>\n",
       "      <td>3009.0</td>\n",
       "      <td>6338.22</td>\n",
       "      <td>5892.2</td>\n",
       "    </tr>\n",
       "    <tr>\n",
       "      <th>218115</th>\n",
       "      <td>894</td>\n",
       "      <td>Zambia</td>\n",
       "      <td>5510</td>\n",
       "      <td>1708</td>\n",
       "      <td>Bambara beans, dry</td>\n",
       "      <td>2020-01-01</td>\n",
       "      <td>3009.0</td>\n",
       "      <td>6388.82</td>\n",
       "      <td>5892.2</td>\n",
       "    </tr>\n",
       "    <tr>\n",
       "      <th>218116</th>\n",
       "      <td>894</td>\n",
       "      <td>Zambia</td>\n",
       "      <td>5510</td>\n",
       "      <td>1708</td>\n",
       "      <td>Bambara beans, dry</td>\n",
       "      <td>2021-01-01</td>\n",
       "      <td>3009.0</td>\n",
       "      <td>6757.73</td>\n",
       "      <td>5892.2</td>\n",
       "    </tr>\n",
       "    <tr>\n",
       "      <th>218117</th>\n",
       "      <td>894</td>\n",
       "      <td>Zambia</td>\n",
       "      <td>5510</td>\n",
       "      <td>1708</td>\n",
       "      <td>Bambara beans, dry</td>\n",
       "      <td>2022-01-01</td>\n",
       "      <td>3009.0</td>\n",
       "      <td>5828.86</td>\n",
       "      <td>5892.2</td>\n",
       "    </tr>\n",
       "    <tr>\n",
       "      <th>218118</th>\n",
       "      <td>894</td>\n",
       "      <td>Zambia</td>\n",
       "      <td>5510</td>\n",
       "      <td>1708</td>\n",
       "      <td>Bambara beans, dry</td>\n",
       "      <td>2023-01-01</td>\n",
       "      <td>3009.0</td>\n",
       "      <td>7294.46</td>\n",
       "      <td>5892.2</td>\n",
       "    </tr>\n",
       "  </tbody>\n",
       "</table>\n",
       "<p>150069 rows × 9 columns</p>\n",
       "</div>"
      ],
      "text/plain": [
       "Element  Area Code (M49)         Area  Element Code Item Code (CPC)  \\\n",
       "40                     4  Afghanistan          5312             111   \n",
       "41                     4  Afghanistan          5312             111   \n",
       "42                     4  Afghanistan          5312             111   \n",
       "43                     4  Afghanistan          5312             111   \n",
       "44                     4  Afghanistan          5312             111   \n",
       "...                  ...          ...           ...             ...   \n",
       "218114               894       Zambia          5510            1708   \n",
       "218115               894       Zambia          5510            1708   \n",
       "218116               894       Zambia          5510            1708   \n",
       "218117               894       Zambia          5510            1708   \n",
       "218118               894       Zambia          5510            1708   \n",
       "\n",
       "Element                Item       Year  Area harvested (ha)  Production (t)  \\\n",
       "40                    Wheat 2019-01-01            2334000.0        17220.51   \n",
       "41                    Wheat 2020-01-01            2668000.0        17220.51   \n",
       "42                    Wheat 2021-01-01            2046564.0        17220.51   \n",
       "43                    Wheat 2022-01-01            1859339.0        17220.51   \n",
       "44                    Wheat 2023-01-01            2003070.0        17220.51   \n",
       "...                     ...        ...                  ...             ...   \n",
       "218114   Bambara beans, dry 2019-01-01               3009.0         6338.22   \n",
       "218115   Bambara beans, dry 2020-01-01               3009.0         6388.82   \n",
       "218116   Bambara beans, dry 2021-01-01               3009.0         6757.73   \n",
       "218117   Bambara beans, dry 2022-01-01               3009.0         5828.86   \n",
       "218118   Bambara beans, dry 2023-01-01               3009.0         7294.46   \n",
       "\n",
       "Element  Yield (kg/ha)  \n",
       "40              5892.2  \n",
       "41              5892.2  \n",
       "42              5892.2  \n",
       "43              5892.2  \n",
       "44              5892.2  \n",
       "...                ...  \n",
       "218114          5892.2  \n",
       "218115          5892.2  \n",
       "218116          5892.2  \n",
       "218117          5892.2  \n",
       "218118          5892.2  \n",
       "\n",
       "[150069 rows x 9 columns]"
      ]
     },
     "execution_count": 24,
     "metadata": {},
     "output_type": "execute_result"
    }
   ],
   "source": [
    "df"
   ]
  },
  {
   "cell_type": "code",
   "execution_count": 25,
   "id": "50c11021",
   "metadata": {},
   "outputs": [],
   "source": [
    "df.to_csv('production.csv', index=False)"
   ]
  },
  {
   "cell_type": "code",
   "execution_count": 26,
   "id": "74df54a5",
   "metadata": {},
   "outputs": [],
   "source": [
    "df=pd.read_csv(\"production.csv\")"
   ]
  },
  {
   "cell_type": "code",
   "execution_count": 27,
   "id": "5536bcf8",
   "metadata": {},
   "outputs": [
    {
     "data": {
      "text/plain": [
       "(150069, 9)"
      ]
     },
     "execution_count": 27,
     "metadata": {},
     "output_type": "execute_result"
    }
   ],
   "source": [
    "df.shape"
   ]
  },
  {
   "cell_type": "code",
   "execution_count": 28,
   "id": "cfbc57c1",
   "metadata": {},
   "outputs": [
    {
     "data": {
      "text/plain": [
       "Area Code (M49)        0\n",
       "Area                   0\n",
       "Element Code           0\n",
       "Item Code (CPC)        0\n",
       "Item                   0\n",
       "Year                   0\n",
       "Area harvested (ha)    0\n",
       "Production (t)         0\n",
       "Yield (kg/ha)          0\n",
       "dtype: int64"
      ]
     },
     "execution_count": 28,
     "metadata": {},
     "output_type": "execute_result"
    }
   ],
   "source": [
    "df.isna().sum()"
   ]
  },
  {
   "cell_type": "code",
   "execution_count": 29,
   "id": "6dd0f731",
   "metadata": {},
   "outputs": [
    {
     "name": "stdout",
     "output_type": "stream",
     "text": [
      "Requirement already satisfied: mysql-connector-python in c:\\programdata\\anaconda3\\lib\\site-packages (9.2.0)\n"
     ]
    }
   ],
   "source": [
    "!pip install mysql-connector-python"
   ]
  },
  {
   "cell_type": "code",
   "execution_count": 30,
   "id": "9d771162",
   "metadata": {},
   "outputs": [],
   "source": [
    "\n",
    "import mysql.connector\n",
    "\n",
    "mydb = mysql.connector.connect(\n",
    "    host=\"localhost\",\n",
    "    user=\"root\",\n",
    "    password=\"\",\n",
    "    # port=3306\n",
    ")\n",
    "\n",
    "mycursor = mydb.cursor(buffered=True)\n"
   ]
  },
  {
   "cell_type": "code",
   "execution_count": 31,
   "id": "7e215cd5",
   "metadata": {},
   "outputs": [
    {
     "ename": "DatabaseError",
     "evalue": "1007 (HY000): Can't create database 'crop'; database exists",
     "output_type": "error",
     "traceback": [
      "\u001b[1;31m---------------------------------------------------------------------------\u001b[0m",
      "\u001b[1;31mMySQLInterfaceError\u001b[0m                       Traceback (most recent call last)",
      "File \u001b[1;32mc:\\ProgramData\\anaconda3\\Lib\\site-packages\\mysql\\connector\\connection_cext.py:755\u001b[0m, in \u001b[0;36mCMySQLConnection.cmd_query\u001b[1;34m(self, query, raw, buffered, raw_as_string, **kwargs)\u001b[0m\n\u001b[0;32m    754\u001b[0m         query \u001b[38;5;241m=\u001b[39m query\u001b[38;5;241m.\u001b[39mencode(\u001b[38;5;124m\"\u001b[39m\u001b[38;5;124mutf-8\u001b[39m\u001b[38;5;124m\"\u001b[39m)\n\u001b[1;32m--> 755\u001b[0m     \u001b[38;5;28mself\u001b[39m\u001b[38;5;241m.\u001b[39m_cmysql\u001b[38;5;241m.\u001b[39mquery(\n\u001b[0;32m    756\u001b[0m         query,\n\u001b[0;32m    757\u001b[0m         raw\u001b[38;5;241m=\u001b[39mraw,\n\u001b[0;32m    758\u001b[0m         buffered\u001b[38;5;241m=\u001b[39mbuffered,\n\u001b[0;32m    759\u001b[0m         raw_as_string\u001b[38;5;241m=\u001b[39mraw_as_string,\n\u001b[0;32m    760\u001b[0m         query_attrs\u001b[38;5;241m=\u001b[39m\u001b[38;5;28mself\u001b[39m\u001b[38;5;241m.\u001b[39mquery_attrs,\n\u001b[0;32m    761\u001b[0m     )\n\u001b[0;32m    762\u001b[0m \u001b[38;5;28;01mexcept\u001b[39;00m MySQLInterfaceError \u001b[38;5;28;01mas\u001b[39;00m err:\n",
      "\u001b[1;31mMySQLInterfaceError\u001b[0m: Can't create database 'crop'; database exists",
      "\nThe above exception was the direct cause of the following exception:\n",
      "\u001b[1;31mDatabaseError\u001b[0m                             Traceback (most recent call last)",
      "Cell \u001b[1;32mIn[31], line 1\u001b[0m\n\u001b[1;32m----> 1\u001b[0m mycursor\u001b[38;5;241m.\u001b[39mexecute(\u001b[38;5;124m\"\u001b[39m\u001b[38;5;124mCREATE DATABASE crop\u001b[39m\u001b[38;5;124m\"\u001b[39m)\n",
      "File \u001b[1;32mc:\\ProgramData\\anaconda3\\Lib\\site-packages\\mysql\\connector\\cursor_cext.py:351\u001b[0m, in \u001b[0;36mCMySQLCursor.execute\u001b[1;34m(self, operation, params, map_results)\u001b[0m\n\u001b[0;32m    343\u001b[0m \u001b[38;5;28mself\u001b[39m\u001b[38;5;241m.\u001b[39m_executed \u001b[38;5;241m=\u001b[39m (\n\u001b[0;32m    344\u001b[0m     \u001b[38;5;28mself\u001b[39m\u001b[38;5;241m.\u001b[39m_stmt_partition[\u001b[38;5;124m\"\u001b[39m\u001b[38;5;124msingle_stmts\u001b[39m\u001b[38;5;124m\"\u001b[39m]\u001b[38;5;241m.\u001b[39mpopleft()\n\u001b[0;32m    345\u001b[0m     \u001b[38;5;28;01mif\u001b[39;00m map_results\n\u001b[0;32m    346\u001b[0m     \u001b[38;5;28;01melse\u001b[39;00m \u001b[38;5;28mself\u001b[39m\u001b[38;5;241m.\u001b[39m_stmt_partition[\u001b[38;5;124m\"\u001b[39m\u001b[38;5;124mmappable_stmt\u001b[39m\u001b[38;5;124m\"\u001b[39m]\n\u001b[0;32m    347\u001b[0m )\n\u001b[0;32m    349\u001b[0m \u001b[38;5;28;01mtry\u001b[39;00m:\n\u001b[0;32m    350\u001b[0m     \u001b[38;5;28mself\u001b[39m\u001b[38;5;241m.\u001b[39m_handle_result(\n\u001b[1;32m--> 351\u001b[0m         \u001b[38;5;28mself\u001b[39m\u001b[38;5;241m.\u001b[39m_connection\u001b[38;5;241m.\u001b[39mcmd_query(\n\u001b[0;32m    352\u001b[0m             \u001b[38;5;28mself\u001b[39m\u001b[38;5;241m.\u001b[39m_stmt_partition[\u001b[38;5;124m\"\u001b[39m\u001b[38;5;124mmappable_stmt\u001b[39m\u001b[38;5;124m\"\u001b[39m],\n\u001b[0;32m    353\u001b[0m             raw\u001b[38;5;241m=\u001b[39m\u001b[38;5;28mself\u001b[39m\u001b[38;5;241m.\u001b[39m_raw,\n\u001b[0;32m    354\u001b[0m             buffered\u001b[38;5;241m=\u001b[39m\u001b[38;5;28mself\u001b[39m\u001b[38;5;241m.\u001b[39m_buffered,\n\u001b[0;32m    355\u001b[0m             raw_as_string\u001b[38;5;241m=\u001b[39m\u001b[38;5;28mself\u001b[39m\u001b[38;5;241m.\u001b[39m_raw_as_string,\n\u001b[0;32m    356\u001b[0m         )\n\u001b[0;32m    357\u001b[0m     )\n\u001b[0;32m    358\u001b[0m \u001b[38;5;28;01mexcept\u001b[39;00m MySQLInterfaceError \u001b[38;5;28;01mas\u001b[39;00m err:\n\u001b[0;32m    359\u001b[0m     \u001b[38;5;28;01mraise\u001b[39;00m get_mysql_exception(\n\u001b[0;32m    360\u001b[0m         msg\u001b[38;5;241m=\u001b[39merr\u001b[38;5;241m.\u001b[39mmsg, errno\u001b[38;5;241m=\u001b[39merr\u001b[38;5;241m.\u001b[39merrno, sqlstate\u001b[38;5;241m=\u001b[39merr\u001b[38;5;241m.\u001b[39msqlstate\n\u001b[0;32m    361\u001b[0m     ) \u001b[38;5;28;01mfrom\u001b[39;00m \u001b[38;5;21;01merr\u001b[39;00m\n",
      "File \u001b[1;32mc:\\ProgramData\\anaconda3\\Lib\\site-packages\\mysql\\connector\\opentelemetry\\context_propagation.py:97\u001b[0m, in \u001b[0;36mwith_context_propagation.<locals>.wrapper\u001b[1;34m(cnx, *args, **kwargs)\u001b[0m\n\u001b[0;32m     95\u001b[0m \u001b[38;5;66;03m# pylint: disable=possibly-used-before-assignment\u001b[39;00m\n\u001b[0;32m     96\u001b[0m \u001b[38;5;28;01mif\u001b[39;00m \u001b[38;5;129;01mnot\u001b[39;00m OTEL_ENABLED \u001b[38;5;129;01mor\u001b[39;00m \u001b[38;5;129;01mnot\u001b[39;00m cnx\u001b[38;5;241m.\u001b[39motel_context_propagation:\n\u001b[1;32m---> 97\u001b[0m     \u001b[38;5;28;01mreturn\u001b[39;00m method(cnx, \u001b[38;5;241m*\u001b[39margs, \u001b[38;5;241m*\u001b[39m\u001b[38;5;241m*\u001b[39mkwargs)\n\u001b[0;32m     99\u001b[0m current_span \u001b[38;5;241m=\u001b[39m trace\u001b[38;5;241m.\u001b[39mget_current_span()\n\u001b[0;32m    100\u001b[0m tp_header \u001b[38;5;241m=\u001b[39m \u001b[38;5;28;01mNone\u001b[39;00m\n",
      "File \u001b[1;32mc:\\ProgramData\\anaconda3\\Lib\\site-packages\\mysql\\connector\\connection_cext.py:763\u001b[0m, in \u001b[0;36mCMySQLConnection.cmd_query\u001b[1;34m(self, query, raw, buffered, raw_as_string, **kwargs)\u001b[0m\n\u001b[0;32m    755\u001b[0m     \u001b[38;5;28mself\u001b[39m\u001b[38;5;241m.\u001b[39m_cmysql\u001b[38;5;241m.\u001b[39mquery(\n\u001b[0;32m    756\u001b[0m         query,\n\u001b[0;32m    757\u001b[0m         raw\u001b[38;5;241m=\u001b[39mraw,\n\u001b[1;32m   (...)\u001b[0m\n\u001b[0;32m    760\u001b[0m         query_attrs\u001b[38;5;241m=\u001b[39m\u001b[38;5;28mself\u001b[39m\u001b[38;5;241m.\u001b[39mquery_attrs,\n\u001b[0;32m    761\u001b[0m     )\n\u001b[0;32m    762\u001b[0m \u001b[38;5;28;01mexcept\u001b[39;00m MySQLInterfaceError \u001b[38;5;28;01mas\u001b[39;00m err:\n\u001b[1;32m--> 763\u001b[0m     \u001b[38;5;28;01mraise\u001b[39;00m get_mysql_exception(\n\u001b[0;32m    764\u001b[0m         err\u001b[38;5;241m.\u001b[39merrno, msg\u001b[38;5;241m=\u001b[39merr\u001b[38;5;241m.\u001b[39mmsg, sqlstate\u001b[38;5;241m=\u001b[39merr\u001b[38;5;241m.\u001b[39msqlstate\n\u001b[0;32m    765\u001b[0m     ) \u001b[38;5;28;01mfrom\u001b[39;00m \u001b[38;5;21;01merr\u001b[39;00m\n\u001b[0;32m    766\u001b[0m \u001b[38;5;28;01mexcept\u001b[39;00m \u001b[38;5;167;01mAttributeError\u001b[39;00m \u001b[38;5;28;01mas\u001b[39;00m err:\n\u001b[0;32m    767\u001b[0m     addr \u001b[38;5;241m=\u001b[39m (\n\u001b[0;32m    768\u001b[0m         \u001b[38;5;28mself\u001b[39m\u001b[38;5;241m.\u001b[39m_unix_socket \u001b[38;5;28;01mif\u001b[39;00m \u001b[38;5;28mself\u001b[39m\u001b[38;5;241m.\u001b[39m_unix_socket \u001b[38;5;28;01melse\u001b[39;00m \u001b[38;5;124mf\u001b[39m\u001b[38;5;124m\"\u001b[39m\u001b[38;5;132;01m{\u001b[39;00m\u001b[38;5;28mself\u001b[39m\u001b[38;5;241m.\u001b[39m_host\u001b[38;5;132;01m}\u001b[39;00m\u001b[38;5;124m:\u001b[39m\u001b[38;5;132;01m{\u001b[39;00m\u001b[38;5;28mself\u001b[39m\u001b[38;5;241m.\u001b[39m_port\u001b[38;5;132;01m}\u001b[39;00m\u001b[38;5;124m\"\u001b[39m\n\u001b[0;32m    769\u001b[0m     )\n",
      "\u001b[1;31mDatabaseError\u001b[0m: 1007 (HY000): Can't create database 'crop'; database exists"
     ]
    }
   ],
   "source": [
    "mycursor.execute(\"CREATE DATABASE crop\")"
   ]
  },
  {
   "cell_type": "code",
   "execution_count": 45,
   "id": "a6321679",
   "metadata": {},
   "outputs": [],
   "source": [
    "mycursor.execute(\"USE crop\")"
   ]
  },
  {
   "cell_type": "code",
   "execution_count": null,
   "id": "ec259186",
   "metadata": {},
   "outputs": [],
   "source": [
    "create_table_query = \"\"\"\n",
    "CREATE TABLE crop_data (\n",
    "    Area_code INT,\n",
    "    Area VARCHAR(255),\n",
    "    Element_code INT,\n",
    "    Item_code INT,\n",
    "    Item VARCHAR(255),\n",
    "    Year DATE,\n",
    "    Area_harvested FLOAT,\n",
    "    Production FLOAT,\n",
    "    Yield FLOAT\n",
    ");\n",
    "\"\"\"\n",
    "mycursor.execute(create_table_query)"
   ]
  },
  {
   "cell_type": "code",
   "execution_count": null,
   "id": "4b55dac7",
   "metadata": {},
   "outputs": [],
   "source": [
    "insert_query = \"\"\"\n",
    "INSERT INTO crop_data (\n",
    "    Area_code, Area, Element_code, Item_code, Item, Year,\n",
    "    Area_harvested, Production, Yield\n",
    ") VALUES (%s, %s, %s, %s, %s, %s, %s, %s, %s)\n",
    "\"\"\"\n",
    "\n",
    "# Define the exact columns to insert\n",
    "columns = [\n",
    "    'Area Code (M49)', 'Area', 'Element Code', 'Item Code (CPC)', 'Item',\n",
    "    'Year', 'Area harvested (ha)', 'Production (t)', 'Yield (kg/ha)'\n",
    "]\n",
    "\n",
    "# Ensure 'Year' is converted to datetime.date\n",
    "df['Year'] = pd.to_datetime(df['Year']).dt.date\n",
    "\n",
    "# Loop over the DataFrame rows and insert into MySQL\n",
    "for index, row in df[columns].iterrows():\n",
    "    values = tuple(row)\n",
    "    mycursor.execute(insert_query, values)\n",
    "\n",
    "# Commit the insertions\n",
    "mydb.commit()"
   ]
  },
  {
   "cell_type": "code",
   "execution_count": 50,
   "id": "a38fc737",
   "metadata": {},
   "outputs": [
    {
     "name": "stdout",
     "output_type": "stream",
     "text": [
      "[(62381219313.430016,)]\n"
     ]
    }
   ],
   "source": [
    "mycursor.execute(\"SELECT SUM(Production) AS total_production FROM crop_data;\")\n",
    "out = mycursor.fetchall()\n",
    "print(out)"
   ]
  },
  {
   "cell_type": "code",
   "execution_count": 52,
   "id": "b8283c09",
   "metadata": {},
   "outputs": [
    {
     "name": "stdout",
     "output_type": "stream",
     "text": [
      "[(8511958421.0,)]\n"
     ]
    }
   ],
   "source": [
    "mycursor.execute(\"SELECT SUM(Area_harvested) AS total_area FROM crop_data;\")\n",
    "out = mycursor.fetchall()\n",
    "print(out)"
   ]
  },
  {
   "cell_type": "code",
   "execution_count": 54,
   "id": "9724f384",
   "metadata": {},
   "outputs": [
    {
     "name": "stdout",
     "output_type": "stream",
     "text": [
      "[(7328.656488679295,)]\n"
     ]
    }
   ],
   "source": [
    "mycursor.execute(\"SELECT SUM(Production) * 1000.0 / SUM(Area_harvested) AS avg_yield FROM crop_data;\")\n",
    "out = mycursor.fetchall()\n",
    "print(out)"
   ]
  },
  {
   "cell_type": "code",
   "execution_count": null,
   "id": "e3644d1f",
   "metadata": {},
   "outputs": [],
   "source": []
  }
 ],
 "metadata": {
  "kernelspec": {
   "display_name": "base",
   "language": "python",
   "name": "python3"
  },
  "language_info": {
   "codemirror_mode": {
    "name": "ipython",
    "version": 3
   },
   "file_extension": ".py",
   "mimetype": "text/x-python",
   "name": "python",
   "nbconvert_exporter": "python",
   "pygments_lexer": "ipython3",
   "version": "3.12.7"
  }
 },
 "nbformat": 4,
 "nbformat_minor": 5
}
