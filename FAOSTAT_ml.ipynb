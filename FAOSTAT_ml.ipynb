{
 "cells": [
  {
   "cell_type": "code",
   "execution_count": 155,
   "id": "cce15711",
   "metadata": {},
   "outputs": [
    {
     "name": "stdout",
     "output_type": "stream",
     "text": [
      "Requirement already satisfied: catboost in c:\\programdata\\anaconda3\\lib\\site-packages (1.2.8)\n",
      "Requirement already satisfied: graphviz in c:\\programdata\\anaconda3\\lib\\site-packages (from catboost) (0.20.3)\n",
      "Requirement already satisfied: matplotlib in c:\\programdata\\anaconda3\\lib\\site-packages (from catboost) (3.9.2)\n",
      "Requirement already satisfied: numpy<3.0,>=1.16.0 in c:\\programdata\\anaconda3\\lib\\site-packages (from catboost) (1.26.4)\n",
      "Requirement already satisfied: pandas>=0.24 in c:\\programdata\\anaconda3\\lib\\site-packages (from catboost) (2.2.2)\n",
      "Requirement already satisfied: scipy in c:\\programdata\\anaconda3\\lib\\site-packages (from catboost) (1.13.1)\n",
      "Requirement already satisfied: plotly in c:\\programdata\\anaconda3\\lib\\site-packages (from catboost) (5.24.1)\n",
      "Requirement already satisfied: six in c:\\programdata\\anaconda3\\lib\\site-packages (from catboost) (1.16.0)\n",
      "Requirement already satisfied: python-dateutil>=2.8.2 in c:\\programdata\\anaconda3\\lib\\site-packages (from pandas>=0.24->catboost) (2.9.0.post0)\n",
      "Requirement already satisfied: pytz>=2020.1 in c:\\programdata\\anaconda3\\lib\\site-packages (from pandas>=0.24->catboost) (2024.1)\n",
      "Requirement already satisfied: tzdata>=2022.7 in c:\\programdata\\anaconda3\\lib\\site-packages (from pandas>=0.24->catboost) (2023.3)\n",
      "Requirement already satisfied: contourpy>=1.0.1 in c:\\programdata\\anaconda3\\lib\\site-packages (from matplotlib->catboost) (1.2.0)\n",
      "Requirement already satisfied: cycler>=0.10 in c:\\programdata\\anaconda3\\lib\\site-packages (from matplotlib->catboost) (0.11.0)\n",
      "Requirement already satisfied: fonttools>=4.22.0 in c:\\programdata\\anaconda3\\lib\\site-packages (from matplotlib->catboost) (4.51.0)\n",
      "Requirement already satisfied: kiwisolver>=1.3.1 in c:\\programdata\\anaconda3\\lib\\site-packages (from matplotlib->catboost) (1.4.4)\n",
      "Requirement already satisfied: packaging>=20.0 in c:\\programdata\\anaconda3\\lib\\site-packages (from matplotlib->catboost) (24.1)\n",
      "Requirement already satisfied: pillow>=8 in c:\\programdata\\anaconda3\\lib\\site-packages (from matplotlib->catboost) (10.4.0)\n",
      "Requirement already satisfied: pyparsing>=2.3.1 in c:\\programdata\\anaconda3\\lib\\site-packages (from matplotlib->catboost) (3.1.2)\n",
      "Requirement already satisfied: tenacity>=6.2.0 in c:\\programdata\\anaconda3\\lib\\site-packages (from plotly->catboost) (8.2.3)\n"
     ]
    }
   ],
   "source": [
    "!pip install catboost"
   ]
  },
  {
   "cell_type": "code",
   "execution_count": 2,
   "id": "8321b212",
   "metadata": {},
   "outputs": [],
   "source": [
    "import pandas as pd\n",
    "import numpy as np\n",
    "import matplotlib.pyplot as plt\n",
    "import seaborn as sns\n",
    "import scipy.stats as stats\n",
    "from sklearn.preprocessing import StandardScaler \n",
    "from sklearn.preprocessing import MinMaxScaler\n",
    "from sklearn.model_selection import train_test_split\n",
    "from sklearn.neighbors import KNeighborsRegressor\n",
    "from sklearn.linear_model import LinearRegression\n",
    "from sklearn.tree import DecisionTreeRegressor\n",
    "from sklearn.ensemble import RandomForestRegressor\n",
    "from sklearn.metrics import mean_squared_error, r2_score, mean_absolute_error\n",
    "from catboost import CatBoostRegressor"
   ]
  },
  {
   "cell_type": "code",
   "execution_count": 3,
   "id": "b6c5cfa6",
   "metadata": {},
   "outputs": [
    {
     "data": {
      "text/html": [
       "<div>\n",
       "<style scoped>\n",
       "    .dataframe tbody tr th:only-of-type {\n",
       "        vertical-align: middle;\n",
       "    }\n",
       "\n",
       "    .dataframe tbody tr th {\n",
       "        vertical-align: top;\n",
       "    }\n",
       "\n",
       "    .dataframe thead th {\n",
       "        text-align: right;\n",
       "    }\n",
       "</style>\n",
       "<table border=\"1\" class=\"dataframe\">\n",
       "  <thead>\n",
       "    <tr style=\"text-align: right;\">\n",
       "      <th></th>\n",
       "      <th>Domain Code</th>\n",
       "      <th>Domain</th>\n",
       "      <th>Area Code (M49)</th>\n",
       "      <th>Area</th>\n",
       "      <th>Element Code</th>\n",
       "      <th>Element</th>\n",
       "      <th>Item Code (CPC)</th>\n",
       "      <th>Item</th>\n",
       "      <th>Year Code</th>\n",
       "      <th>Year</th>\n",
       "      <th>Unit</th>\n",
       "      <th>Value</th>\n",
       "      <th>Flag</th>\n",
       "      <th>Flag Description</th>\n",
       "      <th>Note</th>\n",
       "    </tr>\n",
       "  </thead>\n",
       "  <tbody>\n",
       "    <tr>\n",
       "      <th>0</th>\n",
       "      <td>QCL</td>\n",
       "      <td>Crops and livestock products</td>\n",
       "      <td>4</td>\n",
       "      <td>Afghanistan</td>\n",
       "      <td>5312</td>\n",
       "      <td>Area harvested</td>\n",
       "      <td>1371</td>\n",
       "      <td>Almonds, in shell</td>\n",
       "      <td>2019</td>\n",
       "      <td>2019</td>\n",
       "      <td>ha</td>\n",
       "      <td>29203.0</td>\n",
       "      <td>A</td>\n",
       "      <td>Official figure</td>\n",
       "      <td>NaN</td>\n",
       "    </tr>\n",
       "    <tr>\n",
       "      <th>1</th>\n",
       "      <td>QCL</td>\n",
       "      <td>Crops and livestock products</td>\n",
       "      <td>4</td>\n",
       "      <td>Afghanistan</td>\n",
       "      <td>5412</td>\n",
       "      <td>Yield</td>\n",
       "      <td>1371</td>\n",
       "      <td>Almonds, in shell</td>\n",
       "      <td>2019</td>\n",
       "      <td>2019</td>\n",
       "      <td>kg/ha</td>\n",
       "      <td>1308.3</td>\n",
       "      <td>A</td>\n",
       "      <td>Official figure</td>\n",
       "      <td>NaN</td>\n",
       "    </tr>\n",
       "    <tr>\n",
       "      <th>2</th>\n",
       "      <td>QCL</td>\n",
       "      <td>Crops and livestock products</td>\n",
       "      <td>4</td>\n",
       "      <td>Afghanistan</td>\n",
       "      <td>5510</td>\n",
       "      <td>Production</td>\n",
       "      <td>1371</td>\n",
       "      <td>Almonds, in shell</td>\n",
       "      <td>2019</td>\n",
       "      <td>2019</td>\n",
       "      <td>t</td>\n",
       "      <td>38205.0</td>\n",
       "      <td>A</td>\n",
       "      <td>Official figure</td>\n",
       "      <td>NaN</td>\n",
       "    </tr>\n",
       "    <tr>\n",
       "      <th>3</th>\n",
       "      <td>QCL</td>\n",
       "      <td>Crops and livestock products</td>\n",
       "      <td>4</td>\n",
       "      <td>Afghanistan</td>\n",
       "      <td>5312</td>\n",
       "      <td>Area harvested</td>\n",
       "      <td>1371</td>\n",
       "      <td>Almonds, in shell</td>\n",
       "      <td>2020</td>\n",
       "      <td>2020</td>\n",
       "      <td>ha</td>\n",
       "      <td>22134.0</td>\n",
       "      <td>A</td>\n",
       "      <td>Official figure</td>\n",
       "      <td>NaN</td>\n",
       "    </tr>\n",
       "    <tr>\n",
       "      <th>4</th>\n",
       "      <td>QCL</td>\n",
       "      <td>Crops and livestock products</td>\n",
       "      <td>4</td>\n",
       "      <td>Afghanistan</td>\n",
       "      <td>5412</td>\n",
       "      <td>Yield</td>\n",
       "      <td>1371</td>\n",
       "      <td>Almonds, in shell</td>\n",
       "      <td>2020</td>\n",
       "      <td>2020</td>\n",
       "      <td>kg/ha</td>\n",
       "      <td>1775.9</td>\n",
       "      <td>A</td>\n",
       "      <td>Official figure</td>\n",
       "      <td>NaN</td>\n",
       "    </tr>\n",
       "  </tbody>\n",
       "</table>\n",
       "</div>"
      ],
      "text/plain": [
       "  Domain Code                        Domain  Area Code (M49)         Area  \\\n",
       "0         QCL  Crops and livestock products                4  Afghanistan   \n",
       "1         QCL  Crops and livestock products                4  Afghanistan   \n",
       "2         QCL  Crops and livestock products                4  Afghanistan   \n",
       "3         QCL  Crops and livestock products                4  Afghanistan   \n",
       "4         QCL  Crops and livestock products                4  Afghanistan   \n",
       "\n",
       "   Element Code         Element Item Code (CPC)               Item  Year Code  \\\n",
       "0          5312  Area harvested            1371  Almonds, in shell       2019   \n",
       "1          5412           Yield            1371  Almonds, in shell       2019   \n",
       "2          5510      Production            1371  Almonds, in shell       2019   \n",
       "3          5312  Area harvested            1371  Almonds, in shell       2020   \n",
       "4          5412           Yield            1371  Almonds, in shell       2020   \n",
       "\n",
       "   Year   Unit    Value Flag Flag Description Note  \n",
       "0  2019     ha  29203.0    A  Official figure  NaN  \n",
       "1  2019  kg/ha   1308.3    A  Official figure  NaN  \n",
       "2  2019      t  38205.0    A  Official figure  NaN  \n",
       "3  2020     ha  22134.0    A  Official figure  NaN  \n",
       "4  2020  kg/ha   1775.9    A  Official figure  NaN  "
      ]
     },
     "execution_count": 3,
     "metadata": {},
     "output_type": "execute_result"
    }
   ],
   "source": [
    "df1=pd.read_csv(\"FAOSTAT_data - FAOSTAT_data_en_12-29-2024.csv\")\n",
    "df1.head()"
   ]
  },
  {
   "cell_type": "code",
   "execution_count": 4,
   "id": "81d3e054",
   "metadata": {},
   "outputs": [
    {
     "name": "stdout",
     "output_type": "stream",
     "text": [
      "✅ Each item has a unique Area code.\n"
     ]
    }
   ],
   "source": [
    "item_code_counts = df1.groupby('Area')['Area Code (M49)'].nunique()\n",
    "non_unique_items = item_code_counts[item_code_counts > 1]\n",
    "if non_unique_items.empty:\n",
    "    print(\"✅ Each item has a unique Area code.\")\n",
    "else:\n",
    "    print(\"❌ The following items have multiple Area codes:\")\n",
    "    print(non_unique_items)"
   ]
  },
  {
   "cell_type": "code",
   "execution_count": 5,
   "id": "ed1d8cb5",
   "metadata": {},
   "outputs": [
    {
     "data": {
      "text/html": [
       "<div>\n",
       "<style scoped>\n",
       "    .dataframe tbody tr th:only-of-type {\n",
       "        vertical-align: middle;\n",
       "    }\n",
       "\n",
       "    .dataframe tbody tr th {\n",
       "        vertical-align: top;\n",
       "    }\n",
       "\n",
       "    .dataframe thead th {\n",
       "        text-align: right;\n",
       "    }\n",
       "</style>\n",
       "<table border=\"1\" class=\"dataframe\">\n",
       "  <thead>\n",
       "    <tr style=\"text-align: right;\">\n",
       "      <th></th>\n",
       "      <th>Area Code (M49)</th>\n",
       "      <th>Element Code</th>\n",
       "      <th>Year Code</th>\n",
       "      <th>Year</th>\n",
       "      <th>Value</th>\n",
       "    </tr>\n",
       "  </thead>\n",
       "  <tbody>\n",
       "    <tr>\n",
       "      <th>count</th>\n",
       "      <td>224647.000000</td>\n",
       "      <td>224647.000000</td>\n",
       "      <td>224647.000000</td>\n",
       "      <td>224647.000000</td>\n",
       "      <td>2.181300e+05</td>\n",
       "    </tr>\n",
       "    <tr>\n",
       "      <th>mean</th>\n",
       "      <td>426.797932</td>\n",
       "      <td>5407.125285</td>\n",
       "      <td>2020.971658</td>\n",
       "      <td>2020.971658</td>\n",
       "      <td>8.984848e+05</td>\n",
       "    </tr>\n",
       "    <tr>\n",
       "      <th>std</th>\n",
       "      <td>254.501789</td>\n",
       "      <td>101.321826</td>\n",
       "      <td>1.403592</td>\n",
       "      <td>1.403592</td>\n",
       "      <td>1.201902e+07</td>\n",
       "    </tr>\n",
       "    <tr>\n",
       "      <th>min</th>\n",
       "      <td>4.000000</td>\n",
       "      <td>5111.000000</td>\n",
       "      <td>2019.000000</td>\n",
       "      <td>2019.000000</td>\n",
       "      <td>0.000000e+00</td>\n",
       "    </tr>\n",
       "    <tr>\n",
       "      <th>25%</th>\n",
       "      <td>203.000000</td>\n",
       "      <td>5312.000000</td>\n",
       "      <td>2020.000000</td>\n",
       "      <td>2020.000000</td>\n",
       "      <td>9.370000e+02</td>\n",
       "    </tr>\n",
       "    <tr>\n",
       "      <th>50%</th>\n",
       "      <td>414.000000</td>\n",
       "      <td>5412.000000</td>\n",
       "      <td>2021.000000</td>\n",
       "      <td>2021.000000</td>\n",
       "      <td>7.228200e+03</td>\n",
       "    </tr>\n",
       "    <tr>\n",
       "      <th>75%</th>\n",
       "      <td>643.000000</td>\n",
       "      <td>5510.000000</td>\n",
       "      <td>2022.000000</td>\n",
       "      <td>2022.000000</td>\n",
       "      <td>5.135000e+04</td>\n",
       "    </tr>\n",
       "    <tr>\n",
       "      <th>max</th>\n",
       "      <td>894.000000</td>\n",
       "      <td>5513.000000</td>\n",
       "      <td>2023.000000</td>\n",
       "      <td>2023.000000</td>\n",
       "      <td>7.825858e+08</td>\n",
       "    </tr>\n",
       "  </tbody>\n",
       "</table>\n",
       "</div>"
      ],
      "text/plain": [
       "       Area Code (M49)   Element Code      Year Code           Year  \\\n",
       "count    224647.000000  224647.000000  224647.000000  224647.000000   \n",
       "mean        426.797932    5407.125285    2020.971658    2020.971658   \n",
       "std         254.501789     101.321826       1.403592       1.403592   \n",
       "min           4.000000    5111.000000    2019.000000    2019.000000   \n",
       "25%         203.000000    5312.000000    2020.000000    2020.000000   \n",
       "50%         414.000000    5412.000000    2021.000000    2021.000000   \n",
       "75%         643.000000    5510.000000    2022.000000    2022.000000   \n",
       "max         894.000000    5513.000000    2023.000000    2023.000000   \n",
       "\n",
       "              Value  \n",
       "count  2.181300e+05  \n",
       "mean   8.984848e+05  \n",
       "std    1.201902e+07  \n",
       "min    0.000000e+00  \n",
       "25%    9.370000e+02  \n",
       "50%    7.228200e+03  \n",
       "75%    5.135000e+04  \n",
       "max    7.825858e+08  "
      ]
     },
     "execution_count": 5,
     "metadata": {},
     "output_type": "execute_result"
    }
   ],
   "source": [
    "df1.describe()"
   ]
  },
  {
   "cell_type": "code",
   "execution_count": 6,
   "id": "d6b5745d",
   "metadata": {},
   "outputs": [
    {
     "name": "stdout",
     "output_type": "stream",
     "text": [
      "<class 'pandas.core.frame.DataFrame'>\n",
      "RangeIndex: 224647 entries, 0 to 224646\n",
      "Data columns (total 15 columns):\n",
      " #   Column            Non-Null Count   Dtype  \n",
      "---  ------            --------------   -----  \n",
      " 0   Domain Code       224647 non-null  object \n",
      " 1   Domain            224647 non-null  object \n",
      " 2   Area Code (M49)   224647 non-null  int64  \n",
      " 3   Area              224647 non-null  object \n",
      " 4   Element Code      224647 non-null  int64  \n",
      " 5   Element           224647 non-null  object \n",
      " 6   Item Code (CPC)   224642 non-null  object \n",
      " 7   Item              224647 non-null  object \n",
      " 8   Year Code         224647 non-null  int64  \n",
      " 9   Year              224647 non-null  int64  \n",
      " 10  Unit              224645 non-null  object \n",
      " 11  Value             218130 non-null  float64\n",
      " 12  Flag              224643 non-null  object \n",
      " 13  Flag Description  224634 non-null  object \n",
      " 14  Note              5098 non-null    object \n",
      "dtypes: float64(1), int64(4), object(10)\n",
      "memory usage: 25.7+ MB\n"
     ]
    }
   ],
   "source": [
    "df1.info()"
   ]
  },
  {
   "cell_type": "code",
   "execution_count": 7,
   "id": "25b947f8",
   "metadata": {},
   "outputs": [
    {
     "data": {
      "text/plain": [
       "(224647, 15)"
      ]
     },
     "execution_count": 7,
     "metadata": {},
     "output_type": "execute_result"
    }
   ],
   "source": [
    "df1.shape"
   ]
  },
  {
   "cell_type": "code",
   "execution_count": 8,
   "id": "e99d2300",
   "metadata": {},
   "outputs": [
    {
     "data": {
      "text/plain": [
       "Index(['Domain Code', 'Domain', 'Area Code (M49)', 'Area', 'Element Code',\n",
       "       'Element', 'Item Code (CPC)', 'Item', 'Year Code', 'Year', 'Unit',\n",
       "       'Value', 'Flag', 'Flag Description', 'Note'],\n",
       "      dtype='object')"
      ]
     },
     "execution_count": 8,
     "metadata": {},
     "output_type": "execute_result"
    }
   ],
   "source": [
    "df1.columns"
   ]
  },
  {
   "cell_type": "code",
   "execution_count": 9,
   "id": "d5df5bb5",
   "metadata": {},
   "outputs": [],
   "source": [
    "columns_unwanted=[\"Note\",\"Flag Description\",\"Flag\",\"Area\",\"Domain\",\"Domain Code\",\"Year Code\"]\n",
    "df1=df1.drop(columns=columns_unwanted)"
   ]
  },
  {
   "cell_type": "code",
   "execution_count": 10,
   "id": "f70741d0",
   "metadata": {},
   "outputs": [
    {
     "data": {
      "image/png": "[encoded data removed]",
      "text/plain": [
       "<Figure size 1000x800 with 2 Axes>"
      ]
     },
     "metadata": {},
     "output_type": "display_data"
    }
   ],
   "source": [
    "\n",
    "corr = df1.corr(numeric_only=True)\n",
    "plt.figure(figsize=(10, 8)) \n",
    "sns.heatmap(corr, annot=True, cmap='coolwarm', fmt='.2f', linewidths=0.5)\n",
    "plt.title('Correlation Matrix - All Numeric Columns')\n",
    "plt.show()"
   ]
  },
  {
   "cell_type": "code",
   "execution_count": 11,
   "id": "b6769f1c",
   "metadata": {},
   "outputs": [],
   "source": [
    "df= df1.pivot_table(\n",
    "    index=['Area Code (M49)','Element Code','Item Code (CPC)','Item','Year','Unit'],    \n",
    "    columns='Element',                # Values in 'Element' become new columns\n",
    "    values='Value',                   # Fill values from this column\n",
    "    aggfunc='first'                   # In case of duplicates\n",
    ").reset_index()"
   ]
  },
  {
   "cell_type": "code",
   "execution_count": 12,
   "id": "9f705332",
   "metadata": {},
   "outputs": [
    {
     "data": {
      "image/png": "[encoded data removed]",
      "text/plain": [
       "<Figure size 1000x800 with 2 Axes>"
      ]
     },
     "metadata": {},
     "output_type": "display_data"
    }
   ],
   "source": [
    "\n",
    "corr = df.corr(numeric_only=True)\n",
    "plt.figure(figsize=(10, 8)) \n",
    "sns.heatmap(corr, annot=True, cmap='coolwarm', fmt='.2f', linewidths=0.5)\n",
    "plt.title('Correlation Matrix - All Numeric Columns')\n",
    "plt.show()"
   ]
  },
  {
   "cell_type": "code",
   "execution_count": 13,
   "id": "91d2fed3",
   "metadata": {},
   "outputs": [
    {
     "data": {
      "text/html": [
       "<div>\n",
       "<style scoped>\n",
       "    .dataframe tbody tr th:only-of-type {\n",
       "        vertical-align: middle;\n",
       "    }\n",
       "\n",
       "    .dataframe tbody tr th {\n",
       "        vertical-align: top;\n",
       "    }\n",
       "\n",
       "    .dataframe thead th {\n",
       "        text-align: right;\n",
       "    }\n",
       "</style>\n",
       "<table border=\"1\" class=\"dataframe\">\n",
       "  <thead>\n",
       "    <tr style=\"text-align: right;\">\n",
       "      <th>Element</th>\n",
       "      <th>Area Code (M49)</th>\n",
       "      <th>Element Code</th>\n",
       "      <th>Item Code (CPC)</th>\n",
       "      <th>Item</th>\n",
       "      <th>Year</th>\n",
       "      <th>Unit</th>\n",
       "      <th>Area harvested</th>\n",
       "      <th>Laying</th>\n",
       "      <th>Milk Animals</th>\n",
       "      <th>Producing Animals/Slaughtered</th>\n",
       "      <th>Production</th>\n",
       "      <th>Stocks</th>\n",
       "      <th>Yield</th>\n",
       "      <th>Yield/Carcass Weight</th>\n",
       "    </tr>\n",
       "  </thead>\n",
       "  <tbody>\n",
       "    <tr>\n",
       "      <th>0</th>\n",
       "      <td>4</td>\n",
       "      <td>5111</td>\n",
       "      <td>2111</td>\n",
       "      <td>Cattle</td>\n",
       "      <td>2019</td>\n",
       "      <td>An</td>\n",
       "      <td>NaN</td>\n",
       "      <td>NaN</td>\n",
       "      <td>NaN</td>\n",
       "      <td>NaN</td>\n",
       "      <td>NaN</td>\n",
       "      <td>5223957.0</td>\n",
       "      <td>NaN</td>\n",
       "      <td>NaN</td>\n",
       "    </tr>\n",
       "    <tr>\n",
       "      <th>1</th>\n",
       "      <td>4</td>\n",
       "      <td>5111</td>\n",
       "      <td>2111</td>\n",
       "      <td>Cattle</td>\n",
       "      <td>2020</td>\n",
       "      <td>An</td>\n",
       "      <td>NaN</td>\n",
       "      <td>NaN</td>\n",
       "      <td>NaN</td>\n",
       "      <td>NaN</td>\n",
       "      <td>NaN</td>\n",
       "      <td>5296101.0</td>\n",
       "      <td>NaN</td>\n",
       "      <td>NaN</td>\n",
       "    </tr>\n",
       "    <tr>\n",
       "      <th>2</th>\n",
       "      <td>4</td>\n",
       "      <td>5111</td>\n",
       "      <td>2111</td>\n",
       "      <td>Cattle</td>\n",
       "      <td>2021</td>\n",
       "      <td>An</td>\n",
       "      <td>NaN</td>\n",
       "      <td>NaN</td>\n",
       "      <td>NaN</td>\n",
       "      <td>NaN</td>\n",
       "      <td>NaN</td>\n",
       "      <td>5366718.0</td>\n",
       "      <td>NaN</td>\n",
       "      <td>NaN</td>\n",
       "    </tr>\n",
       "    <tr>\n",
       "      <th>3</th>\n",
       "      <td>4</td>\n",
       "      <td>5111</td>\n",
       "      <td>2111</td>\n",
       "      <td>Cattle</td>\n",
       "      <td>2022</td>\n",
       "      <td>An</td>\n",
       "      <td>NaN</td>\n",
       "      <td>NaN</td>\n",
       "      <td>NaN</td>\n",
       "      <td>NaN</td>\n",
       "      <td>NaN</td>\n",
       "      <td>5498473.0</td>\n",
       "      <td>NaN</td>\n",
       "      <td>NaN</td>\n",
       "    </tr>\n",
       "    <tr>\n",
       "      <th>4</th>\n",
       "      <td>4</td>\n",
       "      <td>5111</td>\n",
       "      <td>2111</td>\n",
       "      <td>Cattle</td>\n",
       "      <td>2023</td>\n",
       "      <td>An</td>\n",
       "      <td>NaN</td>\n",
       "      <td>NaN</td>\n",
       "      <td>NaN</td>\n",
       "      <td>NaN</td>\n",
       "      <td>NaN</td>\n",
       "      <td>5597758.0</td>\n",
       "      <td>NaN</td>\n",
       "      <td>NaN</td>\n",
       "    </tr>\n",
       "  </tbody>\n",
       "</table>\n",
       "</div>"
      ],
      "text/plain": [
       "Element  Area Code (M49)  Element Code Item Code (CPC)    Item  Year Unit  \\\n",
       "0                      4          5111            2111  Cattle  2019   An   \n",
       "1                      4          5111            2111  Cattle  2020   An   \n",
       "2                      4          5111            2111  Cattle  2021   An   \n",
       "3                      4          5111            2111  Cattle  2022   An   \n",
       "4                      4          5111            2111  Cattle  2023   An   \n",
       "\n",
       "Element  Area harvested  Laying  Milk Animals  Producing Animals/Slaughtered  \\\n",
       "0                   NaN     NaN           NaN                            NaN   \n",
       "1                   NaN     NaN           NaN                            NaN   \n",
       "2                   NaN     NaN           NaN                            NaN   \n",
       "3                   NaN     NaN           NaN                            NaN   \n",
       "4                   NaN     NaN           NaN                            NaN   \n",
       "\n",
       "Element  Production     Stocks  Yield  Yield/Carcass Weight  \n",
       "0               NaN  5223957.0    NaN                   NaN  \n",
       "1               NaN  5296101.0    NaN                   NaN  \n",
       "2               NaN  5366718.0    NaN                   NaN  \n",
       "3               NaN  5498473.0    NaN                   NaN  \n",
       "4               NaN  5597758.0    NaN                   NaN  "
      ]
     },
     "execution_count": 13,
     "metadata": {},
     "output_type": "execute_result"
    }
   ],
   "source": [
    "df.head()"
   ]
  },
  {
   "cell_type": "code",
   "execution_count": 14,
   "id": "69a84993",
   "metadata": {},
   "outputs": [
    {
     "data": {
      "text/plain": [
       "Element\n",
       "Area Code (M49)                       0\n",
       "Element Code                          0\n",
       "Item Code (CPC)                       0\n",
       "Item                                  0\n",
       "Year                                  0\n",
       "Unit                                  0\n",
       "Area harvested                   170225\n",
       "Laying                           217061\n",
       "Milk Animals                     216016\n",
       "Producing Animals/Slaughtered    200561\n",
       "Production                       135107\n",
       "Stocks                           209522\n",
       "Yield                            166559\n",
       "Yield/Carcass Weight             211817\n",
       "dtype: int64"
      ]
     },
     "execution_count": 14,
     "metadata": {},
     "output_type": "execute_result"
    }
   ],
   "source": [
    "df.isnull().sum()"
   ]
  },
  {
   "cell_type": "code",
   "execution_count": 15,
   "id": "8910ec69",
   "metadata": {},
   "outputs": [
    {
     "data": {
      "text/plain": [
       "Index(['Area Code (M49)', 'Element Code', 'Item Code (CPC)', 'Item', 'Year',\n",
       "       'Unit', 'Area harvested', 'Laying', 'Milk Animals',\n",
       "       'Producing Animals/Slaughtered', 'Production', 'Stocks', 'Yield',\n",
       "       'Yield/Carcass Weight'],\n",
       "      dtype='object', name='Element')"
      ]
     },
     "execution_count": 15,
     "metadata": {},
     "output_type": "execute_result"
    }
   ],
   "source": [
    "df.columns"
   ]
  },
  {
   "cell_type": "code",
   "execution_count": 16,
   "id": "790ada2e",
   "metadata": {},
   "outputs": [
    {
     "name": "stdout",
     "output_type": "stream",
     "text": [
      "❌ The following items have multiple item codes:\n",
      "Item\n",
      "Grapes    2\n",
      "Name: Item Code (CPC), dtype: int64\n"
     ]
    }
   ],
   "source": [
    "item_code_counts = df.groupby('Item')['Item Code (CPC)'].nunique()\n",
    "non_unique_items = item_code_counts[item_code_counts > 1]\n",
    "if non_unique_items.empty:\n",
    "    print(\"✅ Each item has a unique item code.\")\n",
    "else:\n",
    "    print(\"❌ The following items have multiple item codes:\")\n",
    "    print(non_unique_items)"
   ]
  },
  {
   "cell_type": "code",
   "execution_count": 17,
   "id": "86505d39",
   "metadata": {},
   "outputs": [
    {
     "data": {
      "text/plain": [
       "array(['1330', '0'], dtype=object)"
      ]
     },
     "execution_count": 17,
     "metadata": {},
     "output_type": "execute_result"
    }
   ],
   "source": [
    "df[df['Item'] == 'Grapes']['Item Code (CPC)'].unique()"
   ]
  },
  {
   "cell_type": "code",
   "execution_count": 18,
   "id": "7f88202d",
   "metadata": {},
   "outputs": [],
   "source": [
    "df.loc[df['Item'] == 'Grapes', 'Item Code (CPC)'] = 1330"
   ]
  },
  {
   "cell_type": "code",
   "execution_count": 19,
   "id": "5142001a",
   "metadata": {},
   "outputs": [
    {
     "name": "stdout",
     "output_type": "stream",
     "text": [
      "✅ Each item has a unique item code.\n"
     ]
    }
   ],
   "source": [
    "item_code_counts = df.groupby('Item')['Item Code (CPC)'].nunique()\n",
    "non_unique_items = item_code_counts[item_code_counts > 1]\n",
    "if non_unique_items.empty:\n",
    "    print(\"✅ Each item has a unique item code.\")\n",
    "else:\n",
    "    print(\"❌ The following items have multiple item codes:\")\n",
    "    print(non_unique_items)"
   ]
  },
  {
   "cell_type": "code",
   "execution_count": 20,
   "id": "d5118606",
   "metadata": {},
   "outputs": [],
   "source": [
    "columns_to_remove=[\"Yield/Carcass Weight\",\"Laying\",\"Milk Animals\",\"Producing Animals/Slaughtered\",\"Item\",\"Unit\",\"Stocks\"]\n",
    "df=df.drop(columns=columns_to_remove)"
   ]
  },
  {
   "cell_type": "code",
   "execution_count": 21,
   "id": "da52acf4",
   "metadata": {},
   "outputs": [],
   "source": [
    "df = df.fillna(df.median(numeric_only=True))\n",
    "#df['Value'].fillna(df['Value'].median(),inplace=True)"
   ]
  },
  {
   "cell_type": "code",
   "execution_count": 22,
   "id": "0118b2c7",
   "metadata": {},
   "outputs": [
    {
     "data": {
      "text/plain": [
       "array([  4,   8,  12,  24,  28,  31,  32,  36,  40,  44,  48,  50,  51,\n",
       "        52,  56,  64,  68,  70,  72,  76,  84,  90,  96, 100, 104, 108,\n",
       "       112, 116, 120, 124, 132, 140, 144, 148, 152, 156, 158, 159, 170,\n",
       "       174, 178, 180, 184, 188, 191, 192, 196, 203, 204, 208, 212, 214,\n",
       "       218, 222, 226, 231, 232, 233, 234, 242, 246, 250, 258, 262, 266,\n",
       "       268, 270, 275, 276, 288, 296, 300, 308, 320, 324, 328, 332, 340,\n",
       "       344, 348, 352, 356, 360, 364, 368, 372, 376, 380, 384, 388, 392,\n",
       "       398, 400, 404, 408, 410, 414, 417, 418, 422, 426, 428, 430, 434,\n",
       "       440, 442, 446, 450, 454, 458, 462, 466, 470, 478, 480, 484, 496,\n",
       "       498, 499, 504, 508, 512, 516, 520, 524, 528, 540, 548, 554, 558,\n",
       "       562, 566, 570, 578, 583, 584, 586, 591, 598, 600, 604, 608, 616,\n",
       "       620, 624, 626, 630, 634, 642, 643, 646, 659, 662, 670, 678, 682,\n",
       "       686, 688, 690, 694, 702, 703, 704, 705, 706, 710, 716, 724, 728,\n",
       "       729, 740, 748, 752, 756, 760, 762, 764, 768, 772, 776, 780, 784,\n",
       "       788, 792, 795, 798, 800, 804, 807, 818, 826, 834, 840, 854, 858,\n",
       "       860, 862, 882, 887, 894], dtype=int64)"
      ]
     },
     "execution_count": 22,
     "metadata": {},
     "output_type": "execute_result"
    }
   ],
   "source": [
    "df['Area Code (M49)'].unique()"
   ]
  },
  {
   "cell_type": "code",
   "execution_count": 23,
   "id": "61a4a5c8",
   "metadata": {},
   "outputs": [
    {
     "data": {
      "text/plain": [
       "array(['2111', '2121.01', '2122', '2123', '2131', '2132', '2133', '2151',\n",
       "       '111', '112', '113', '115', '118', '1221', '1229', '1253.02',\n",
       "       '1290.9', '1315', '1323', '1329', 1330, '1341', '1342.01', '1343',\n",
       "       '1345', '1346', '1349.2', '1355.9', '1359.9', '1371', '1375',\n",
       "       '1376', '1379.9', '141', '1441', '1442', '1444', '1445', '1450',\n",
       "       '1510', '1654', '1699', '1709.9', '1801', '1802', '1921.01', '231',\n",
       "       '2211', '2291', '2292', '2293', '21111.01', '21115', '21116',\n",
       "       '21117.01', '21151', '21155', '21156', '21159.02', '21512',\n",
       "       '21514', '21515', '21519.02', '2951.01', '2953', '2954', '21121',\n",
       "       '143', '1921.02', '21170.02', '21631.01', '2167', '2168',\n",
       "       '21691.07', '21691.12', '22110.02', '22230.04', '22241.01',\n",
       "       '22249.01', '22253', '22254', '2351f', '23540', '26110', '2910',\n",
       "       '2941', '2944', '2112', '2140', '2152', '2196', '116', '117',\n",
       "       '1212', '1213', '1214', '1215', '1231', '1232', '1233', '1234',\n",
       "       '1235', '1239.01', '1241.9', '1242', '1243', '1251', '1252',\n",
       "       '1253.01', '1254', '1314', '1322', '1324', '1342.02', '1344.01',\n",
       "       '1344.02', '1354', '1373', '1659', '1701', '1702', '1709.01',\n",
       "       '1970', '2212', '21112', '21113.01', '21118.01', '21118.02',\n",
       "       '21152', '21153', '21159.01', '21511.01', '21513', '2951.03',\n",
       "       '21124', '1270', '21119.9', '2161', '2162', '22251.01', '232',\n",
       "       '23913', '24212.02', '24310.01', '2153', '2154', '2191', '114',\n",
       "       '1191', '1216', '1312', '1321', '1356', '142', '1443', '1652',\n",
       "       '1703', '1704', '1705', '21114', '21631.02', '21641.01',\n",
       "       '21700.02', '22251.02', '1311', '1316', '1318', '1372', '1447',\n",
       "       '1491.01', '1520.01', '1530', '1610', '1640', '1922.02', '1929.05',\n",
       "       '1491.02', '21521', '2165', '21691.14', '2960.01', '1290.01',\n",
       "       '1319', '1540', '1550', '1351.01', '1353.01', '1355.02', '1359.01',\n",
       "       '1374', '1449.9', '1620', '21691.02', '1195', '1199.9', '1211',\n",
       "       '1241.01', '1317', '1446', '1499.02', '1630', '1709.02', '1929.01',\n",
       "       '1929.9', '1930.01', '21118.03', '21122', '21123', '21523',\n",
       "       '22120', '22130.02', '22211', '22212', '22221.01', '22222.01',\n",
       "       '22241.02', '1352', '1355.01', '1449.02', '1657', '1929.02',\n",
       "       '1199.02', '22130.03', '22222.02', '22230.01', '22252', '1313',\n",
       "       '1460', '1707', '2166', '1379.01', '1809', '1922.01', '1950.01',\n",
       "       '1929.08', '22242.01', '22242.02', '1349.1', '1192', '1194',\n",
       "       '1599.1', '1653', '2121.02', '2192.01', '1651', '21117.02',\n",
       "       '21119.01', '1377', '1691', '1706', '1359.02', '1929.04', '1591',\n",
       "       '2194', '21170.01', '1379.02', '1449.01', '1708', '22221.02',\n",
       "       '1655', '1656', '1499.04', '1658', '1929.06', '1929.07', '1193',\n",
       "       '1499.01', '1930.02', '1448', '1499.05', '1499.06', '1929.03',\n",
       "       '2920', '1351.02', '1499.03'], dtype=object)"
      ]
     },
     "execution_count": 23,
     "metadata": {},
     "output_type": "execute_result"
    }
   ],
   "source": [
    "df['Item Code (CPC)'].unique()"
   ]
  },
  {
   "cell_type": "code",
   "execution_count": 24,
   "id": "16c5a80a",
   "metadata": {},
   "outputs": [
    {
     "data": {
      "text/plain": [
       "array([5111, 5112, 5312, 5313, 5318, 5320, 5321, 5410, 5412, 5413, 5417,\n",
       "       5420, 5424, 5510, 5513, 5114], dtype=int64)"
      ]
     },
     "execution_count": 24,
     "metadata": {},
     "output_type": "execute_result"
    }
   ],
   "source": [
    "df['Element Code'].unique()"
   ]
  },
  {
   "cell_type": "code",
   "execution_count": 25,
   "id": "1152cb66",
   "metadata": {},
   "outputs": [
    {
     "data": {
      "text/plain": [
       "array([2019, 2020, 2021, 2022, 2023], dtype=int64)"
      ]
     },
     "execution_count": 25,
     "metadata": {},
     "output_type": "execute_result"
    }
   ],
   "source": [
    "df['Year'].unique()"
   ]
  },
  {
   "cell_type": "code",
   "execution_count": 26,
   "id": "eed5e09a",
   "metadata": {},
   "outputs": [
    {
     "data": {
      "text/plain": [
       "array([   3009., 2334000., 2668000., ...,    6177.,    6934.,    6388.])"
      ]
     },
     "execution_count": 26,
     "metadata": {},
     "output_type": "execute_result"
    }
   ],
   "source": [
    "df['Area harvested'].unique()"
   ]
  },
  {
   "cell_type": "code",
   "execution_count": 27,
   "id": "4c4268b8",
   "metadata": {},
   "outputs": [
    {
     "data": {
      "text/plain": [
       "array([  10923.67, 4890000.  , 5185000.  , ..., 1262821.  , 1273504.  ,\n",
       "       1274929.  ])"
      ]
     },
     "execution_count": 27,
     "metadata": {},
     "output_type": "execute_result"
    }
   ],
   "source": [
    "df['Production'].unique()"
   ]
  },
  {
   "cell_type": "code",
   "execution_count": 28,
   "id": "b73d4854",
   "metadata": {},
   "outputs": [
    {
     "data": {
      "text/plain": [
       "array([ 5216.2, 21163. , 21148. , ..., 13149. , 13140. , 13126. ])"
      ]
     },
     "execution_count": 28,
     "metadata": {},
     "output_type": "execute_result"
    }
   ],
   "source": [
    "df['Yield'].unique()"
   ]
  },
  {
   "cell_type": "code",
   "execution_count": 29,
   "id": "70d973d8",
   "metadata": {},
   "outputs": [
    {
     "data": {
      "text/plain": [
       "Index(['Area Code (M49)', 'Element Code', 'Item Code (CPC)', 'Year',\n",
       "       'Area harvested', 'Production', 'Yield'],\n",
       "      dtype='object', name='Element')"
      ]
     },
     "execution_count": 29,
     "metadata": {},
     "output_type": "execute_result"
    }
   ],
   "source": [
    "df.columns"
   ]
  },
  {
   "cell_type": "code",
   "execution_count": 30,
   "id": "d06fb95c",
   "metadata": {},
   "outputs": [
    {
     "name": "stdout",
     "output_type": "stream",
     "text": [
      "size before removing outlier: (218124, 7)\n",
      "size after removing outlier: (218124, 7)\n"
     ]
    }
   ],
   "source": [
    "columns_to_check = ['Area harvested', 'Production', 'Yield']\n",
    "df_clean = df.dropna(subset=columns_to_check)\n",
    "z_scores = np.abs(stats.zscore(df_clean[columns_to_check], nan_policy='omit'))\n",
    "threshold=3\n",
    "print(\"size before removing outlier:\", df.shape)\n",
    "outlier_df=df[(z_scores>threshold).any(axis=1)]\n",
    "outlier_df=df[(z_scores<=threshold).all(axis=1)]\n",
    "print(\"size after removing outlier:\", df.shape)"
   ]
  },
  {
   "cell_type": "code",
   "execution_count": 31,
   "id": "d6e44d48",
   "metadata": {},
   "outputs": [],
   "source": [
    "#df_numeric = df.select_dtypes(include='number').dropna()\n",
    "#scaler = MinMaxScaler()\n",
    "#df_s= pd.DataFrame(scaler.fit_transform(df_numeric), columns=df_numeric.columns)"
   ]
  },
  {
   "cell_type": "code",
   "execution_count": 32,
   "id": "29436088",
   "metadata": {},
   "outputs": [],
   "source": [
    "df['Item Code (CPC)'] = pd.to_numeric(df['Item Code (CPC)'], errors='coerce').astype('float')\n"
   ]
  },
  {
   "cell_type": "code",
   "execution_count": 33,
   "id": "4328431b",
   "metadata": {},
   "outputs": [
    {
     "data": {
      "text/plain": [
       "Element\n",
       "Area Code (M49)      int64\n",
       "Element Code         int64\n",
       "Item Code (CPC)    float64\n",
       "Year                 int64\n",
       "Area harvested     float64\n",
       "Production         float64\n",
       "Yield              float64\n",
       "dtype: object"
      ]
     },
     "execution_count": 33,
     "metadata": {},
     "output_type": "execute_result"
    }
   ],
   "source": [
    "df.dtypes"
   ]
  },
  {
   "cell_type": "code",
   "execution_count": 43,
   "id": "87f3fcba",
   "metadata": {},
   "outputs": [
    {
     "data": {
      "text/plain": [
       "0"
      ]
     },
     "execution_count": 43,
     "metadata": {},
     "output_type": "execute_result"
    }
   ],
   "source": [
    "df.duplicated().sum()"
   ]
  },
  {
   "cell_type": "code",
   "execution_count": 34,
   "id": "bbf42842",
   "metadata": {},
   "outputs": [],
   "source": [
    "columns_to_scale = ['Area Code (M49)','Element Code','Item Code (CPC)','Year','Area harvested','Yield']\n",
    "# Drop rows with NaNs in these columns (optional, but recommended)\n",
    "df_clean = df.dropna(subset=columns_to_scale)\n",
    "# Initialize the scaler\n",
    "scaler = StandardScaler()\n",
    "# Scale only the selected columns\n",
    "scaled_data = scaler.fit_transform(df_clean[columns_to_scale])\n",
    "# Put the scaled data back into a DataFrame\n",
    "df_s = pd.DataFrame(scaled_data, columns=columns_to_scale, index=df_clean.index)\n",
    "df = df_clean.copy()\n",
    "df[columns_to_scale] = df_s\n"
   ]
  },
  {
   "cell_type": "code",
   "execution_count": 35,
   "id": "25fcb1c1",
   "metadata": {},
   "outputs": [],
   "source": [
    "import pickle\n",
    "\n",
    "scaler_filename = 'std_scaler.pkl'\n",
    "with open(scaler_filename, 'wb') as f:\n",
    "    pickle.dump(scaler, f)"
   ]
  },
  {
   "cell_type": "code",
   "execution_count": 36,
   "id": "3b944aec",
   "metadata": {},
   "outputs": [
    {
     "data": {
      "text/html": [
       "<div>\n",
       "<style scoped>\n",
       "    .dataframe tbody tr th:only-of-type {\n",
       "        vertical-align: middle;\n",
       "    }\n",
       "\n",
       "    .dataframe tbody tr th {\n",
       "        vertical-align: top;\n",
       "    }\n",
       "\n",
       "    .dataframe thead th {\n",
       "        text-align: right;\n",
       "    }\n",
       "</style>\n",
       "<table border=\"1\" class=\"dataframe\">\n",
       "  <thead>\n",
       "    <tr style=\"text-align: right;\">\n",
       "      <th>Element</th>\n",
       "      <th>Area Code (M49)</th>\n",
       "      <th>Element Code</th>\n",
       "      <th>Item Code (CPC)</th>\n",
       "      <th>Year</th>\n",
       "      <th>Area harvested</th>\n",
       "      <th>Production</th>\n",
       "      <th>Yield</th>\n",
       "    </tr>\n",
       "  </thead>\n",
       "  <tbody>\n",
       "    <tr>\n",
       "      <th>218119</th>\n",
       "      <td>1.841158</td>\n",
       "      <td>1.050663</td>\n",
       "      <td>-0.648426</td>\n",
       "      <td>-1.406762</td>\n",
       "      <td>-0.054913</td>\n",
       "      <td>1262821.0</td>\n",
       "      <td>-0.134174</td>\n",
       "    </tr>\n",
       "    <tr>\n",
       "      <th>218120</th>\n",
       "      <td>1.841158</td>\n",
       "      <td>1.050663</td>\n",
       "      <td>-0.648426</td>\n",
       "      <td>-0.694313</td>\n",
       "      <td>-0.054913</td>\n",
       "      <td>1273504.0</td>\n",
       "      <td>-0.134174</td>\n",
       "    </tr>\n",
       "    <tr>\n",
       "      <th>218121</th>\n",
       "      <td>1.841158</td>\n",
       "      <td>1.050663</td>\n",
       "      <td>-0.648426</td>\n",
       "      <td>0.018136</td>\n",
       "      <td>-0.054913</td>\n",
       "      <td>1274929.0</td>\n",
       "      <td>-0.134174</td>\n",
       "    </tr>\n",
       "    <tr>\n",
       "      <th>218122</th>\n",
       "      <td>1.841158</td>\n",
       "      <td>1.050663</td>\n",
       "      <td>-0.648426</td>\n",
       "      <td>0.730585</td>\n",
       "      <td>-0.054913</td>\n",
       "      <td>1275000.0</td>\n",
       "      <td>-0.134174</td>\n",
       "    </tr>\n",
       "    <tr>\n",
       "      <th>218123</th>\n",
       "      <td>1.841158</td>\n",
       "      <td>1.050663</td>\n",
       "      <td>-0.648426</td>\n",
       "      <td>1.443035</td>\n",
       "      <td>-0.054913</td>\n",
       "      <td>1275000.0</td>\n",
       "      <td>-0.134174</td>\n",
       "    </tr>\n",
       "  </tbody>\n",
       "</table>\n",
       "</div>"
      ],
      "text/plain": [
       "Element  Area Code (M49)  Element Code  Item Code (CPC)      Year  \\\n",
       "218119          1.841158      1.050663        -0.648426 -1.406762   \n",
       "218120          1.841158      1.050663        -0.648426 -0.694313   \n",
       "218121          1.841158      1.050663        -0.648426  0.018136   \n",
       "218122          1.841158      1.050663        -0.648426  0.730585   \n",
       "218123          1.841158      1.050663        -0.648426  1.443035   \n",
       "\n",
       "Element  Area harvested  Production     Yield  \n",
       "218119        -0.054913   1262821.0 -0.134174  \n",
       "218120        -0.054913   1273504.0 -0.134174  \n",
       "218121        -0.054913   1274929.0 -0.134174  \n",
       "218122        -0.054913   1275000.0 -0.134174  \n",
       "218123        -0.054913   1275000.0 -0.134174  "
      ]
     },
     "execution_count": 36,
     "metadata": {},
     "output_type": "execute_result"
    }
   ],
   "source": [
    "df.tail()"
   ]
  },
  {
   "cell_type": "code",
   "execution_count": 37,
   "id": "da52b97e",
   "metadata": {},
   "outputs": [
    {
     "data": {
      "text/plain": [
       "Element\n",
       "Area Code (M49)    float64\n",
       "Element Code       float64\n",
       "Item Code (CPC)    float64\n",
       "Year               float64\n",
       "Area harvested     float64\n",
       "Production         float64\n",
       "Yield              float64\n",
       "dtype: object"
      ]
     },
     "execution_count": 37,
     "metadata": {},
     "output_type": "execute_result"
    }
   ],
   "source": [
    "df.dtypes"
   ]
  },
  {
   "cell_type": "code",
   "execution_count": 38,
   "id": "3168134e",
   "metadata": {},
   "outputs": [
    {
     "name": "stdout",
     "output_type": "stream",
     "text": [
      "x_train (174101, 6)\n",
      "x_test (43526, 6)\n"
     ]
    }
   ],
   "source": [
    "x=df.drop('Production',axis=1)\n",
    "y=np.log1p(df['Production'])\n",
    "x_train,x_test,y_train,y_test =train_test_split(x,y,test_size=0.2, random_state=42)\n",
    "print(f\"x_train {x_train.shape}\")\n",
    "print(f\"x_test {x_test.shape}\")"
   ]
  },
  {
   "cell_type": "code",
   "execution_count": 39,
   "id": "a23ba9d9",
   "metadata": {},
   "outputs": [
    {
     "name": "stdout",
     "output_type": "stream",
     "text": [
      "(174101,)\n"
     ]
    }
   ],
   "source": [
    "print(np.log1p(y_train).shape)"
   ]
  },
  {
   "cell_type": "code",
   "execution_count": 40,
   "id": "27d34c30",
   "metadata": {},
   "outputs": [],
   "source": [
    "models=[\n",
    "    ('CatBoost', CatBoostRegressor(verbose=0)),\n",
    "    ('Random Forest', RandomForestRegressor()),\n",
    "    ('Linear Regression', LinearRegression()),\n",
    "    ('Decision Tree', DecisionTreeRegressor()),\n",
    "    ('KNN', KNeighborsRegressor())\n",
    "]"
   ]
  },
  {
   "cell_type": "code",
   "execution_count": 41,
   "id": "e389e378",
   "metadata": {},
   "outputs": [
    {
     "name": "stdout",
     "output_type": "stream",
     "text": [
      "CatBoost\n",
      "\n",
      "Mean squared Error 2.2748875226222918\n",
      "Mean absolute Error 0.7297869036899952\n",
      "R2 score 0.5793171021236705\n",
      "\n",
      "\n",
      "Random Forest\n",
      "\n",
      "Mean squared Error 0.2516023002573129\n",
      "Mean absolute Error 0.18210532581247166\n",
      "R2 score 0.9534725195280916\n",
      "\n",
      "\n",
      "Linear Regression\n",
      "\n",
      "Mean squared Error 5.322806780189857\n",
      "Mean absolute Error 1.2091021532886665\n",
      "R2 score 0.015681540797729876\n",
      "\n",
      "\n",
      "Decision Tree\n",
      "\n",
      "Mean squared Error 0.16588360645278188\n",
      "Mean absolute Error 0.07680564382081356\n",
      "R2 score 0.9693240234610406\n",
      "\n",
      "\n",
      "KNN\n",
      "\n",
      "Mean squared Error 3.582980397125543\n",
      "Mean absolute Error 0.8808373333754914\n",
      "R2 score 0.33741841673149053\n",
      "\n",
      "\n"
     ]
    }
   ],
   "source": [
    "for name,model in models:\n",
    "    print(name)\n",
    "    print()\n",
    "    model.fit(x_train,y_train)\n",
    "    y_pred=model.predict(x_test)\n",
    "    print(\"Mean squared Error\", mean_squared_error(y_test,y_pred))\n",
    "    print(\"Mean absolute Error\", mean_absolute_error(y_test,y_pred))\n",
    "    print(\"R2 score\", r2_score(y_test,y_pred))\n",
    "    print(\"\\n\")"
   ]
  },
  {
   "cell_type": "code",
   "execution_count": 88,
   "id": "283c03eb",
   "metadata": {},
   "outputs": [
    {
     "data": {
      "text/html": [
       "<style>#sk-container-id-1 {\n",
       "  /* Definition of color scheme common for light and dark mode */\n",
       "  --sklearn-color-text: black;\n",
       "  --sklearn-color-line: gray;\n",
       "  /* Definition of color scheme for unfitted estimators */\n",
       "  --sklearn-color-unfitted-level-0: #fff5e6;\n",
       "  --sklearn-color-unfitted-level-1: #f6e4d2;\n",
       "  --sklearn-color-unfitted-level-2: #ffe0b3;\n",
       "  --sklearn-color-unfitted-level-3: chocolate;\n",
       "  /* Definition of color scheme for fitted estimators */\n",
       "  --sklearn-color-fitted-level-0: #f0f8ff;\n",
       "  --sklearn-color-fitted-level-1: #d4ebff;\n",
       "  --sklearn-color-fitted-level-2: #b3dbfd;\n",
       "  --sklearn-color-fitted-level-3: cornflowerblue;\n",
       "\n",
       "  /* Specific color for light theme */\n",
       "  --sklearn-color-text-on-default-background: var(--sg-text-color, var(--theme-code-foreground, var(--jp-content-font-color1, black)));\n",
       "  --sklearn-color-background: var(--sg-background-color, var(--theme-background, var(--jp-layout-color0, white)));\n",
       "  --sklearn-color-border-box: var(--sg-text-color, var(--theme-code-foreground, var(--jp-content-font-color1, black)));\n",
       "  --sklearn-color-icon: #696969;\n",
       "\n",
       "  @media (prefers-color-scheme: dark) {\n",
       "    /* Redefinition of color scheme for dark theme */\n",
       "    --sklearn-color-text-on-default-background: var(--sg-text-color, var(--theme-code-foreground, var(--jp-content-font-color1, white)));\n",
       "    --sklearn-color-background: var(--sg-background-color, var(--theme-background, var(--jp-layout-color0, #111)));\n",
       "    --sklearn-color-border-box: var(--sg-text-color, var(--theme-code-foreground, var(--jp-content-font-color1, white)));\n",
       "    --sklearn-color-icon: #878787;\n",
       "  }\n",
       "}\n",
       "\n",
       "#sk-container-id-1 {\n",
       "  color: var(--sklearn-color-text);\n",
       "}\n",
       "\n",
       "#sk-container-id-1 pre {\n",
       "  padding: 0;\n",
       "}\n",
       "\n",
       "#sk-container-id-1 input.sk-hidden--visually {\n",
       "  border: 0;\n",
       "  clip: rect(1px 1px 1px 1px);\n",
       "  clip: rect(1px, 1px, 1px, 1px);\n",
       "  height: 1px;\n",
       "  margin: -1px;\n",
       "  overflow: hidden;\n",
       "  padding: 0;\n",
       "  position: absolute;\n",
       "  width: 1px;\n",
       "}\n",
       "\n",
       "#sk-container-id-1 div.sk-dashed-wrapped {\n",
       "  border: 1px dashed var(--sklearn-color-line);\n",
       "  margin: 0 0.4em 0.5em 0.4em;\n",
       "  box-sizing: border-box;\n",
       "  padding-bottom: 0.4em;\n",
       "  background-color: var(--sklearn-color-background);\n",
       "}\n",
       "\n",
       "#sk-container-id-1 div.sk-container {\n",
       "  /* jupyter's `normalize.less` sets `[hidden] { display: none; }`\n",
       "     but bootstrap.min.css set `[hidden] { display: none !important; }`\n",
       "     so we also need the `!important` here to be able to override the\n",
       "     default hidden behavior on the sphinx rendered scikit-learn.org.\n",
       "     See: https://github.com/scikit-learn/scikit-learn/issues/21755 */\n",
       "  display: inline-block !important;\n",
       "  position: relative;\n",
       "}\n",
       "\n",
       "#sk-container-id-1 div.sk-text-repr-fallback {\n",
       "  display: none;\n",
       "}\n",
       "\n",
       "div.sk-parallel-item,\n",
       "div.sk-serial,\n",
       "div.sk-item {\n",
       "  /* draw centered vertical line to link estimators */\n",
       "  background-image: linear-gradient(var(--sklearn-color-text-on-default-background), var(--sklearn-color-text-on-default-background));\n",
       "  background-size: 2px 100%;\n",
       "  background-repeat: no-repeat;\n",
       "  background-position: center center;\n",
       "}\n",
       "\n",
       "/* Parallel-specific style estimator block */\n",
       "\n",
       "#sk-container-id-1 div.sk-parallel-item::after {\n",
       "  content: \"\";\n",
       "  width: 100%;\n",
       "  border-bottom: 2px solid var(--sklearn-color-text-on-default-background);\n",
       "  flex-grow: 1;\n",
       "}\n",
       "\n",
       "#sk-container-id-1 div.sk-parallel {\n",
       "  display: flex;\n",
       "  align-items: stretch;\n",
       "  justify-content: center;\n",
       "  background-color: var(--sklearn-color-background);\n",
       "  position: relative;\n",
       "}\n",
       "\n",
       "#sk-container-id-1 div.sk-parallel-item {\n",
       "  display: flex;\n",
       "  flex-direction: column;\n",
       "}\n",
       "\n",
       "#sk-container-id-1 div.sk-parallel-item:first-child::after {\n",
       "  align-self: flex-end;\n",
       "  width: 50%;\n",
       "}\n",
       "\n",
       "#sk-container-id-1 div.sk-parallel-item:last-child::after {\n",
       "  align-self: flex-start;\n",
       "  width: 50%;\n",
       "}\n",
       "\n",
       "#sk-container-id-1 div.sk-parallel-item:only-child::after {\n",
       "  width: 0;\n",
       "}\n",
       "\n",
       "/* Serial-specific style estimator block */\n",
       "\n",
       "#sk-container-id-1 div.sk-serial {\n",
       "  display: flex;\n",
       "  flex-direction: column;\n",
       "  align-items: center;\n",
       "  background-color: var(--sklearn-color-background);\n",
       "  padding-right: 1em;\n",
       "  padding-left: 1em;\n",
       "}\n",
       "\n",
       "\n",
       "/* Toggleable style: style used for estimator/Pipeline/ColumnTransformer box that is\n",
       "clickable and can be expanded/collapsed.\n",
       "- Pipeline and ColumnTransformer use this feature and define the default style\n",
       "- Estimators will overwrite some part of the style using the `sk-estimator` class\n",
       "*/\n",
       "\n",
       "/* Pipeline and ColumnTransformer style (default) */\n",
       "\n",
       "#sk-container-id-1 div.sk-toggleable {\n",
       "  /* Default theme specific background. It is overwritten whether we have a\n",
       "  specific estimator or a Pipeline/ColumnTransformer */\n",
       "  background-color: var(--sklearn-color-background);\n",
       "}\n",
       "\n",
       "/* Toggleable label */\n",
       "#sk-container-id-1 label.sk-toggleable__label {\n",
       "  cursor: pointer;\n",
       "  display: block;\n",
       "  width: 100%;\n",
       "  margin-bottom: 0;\n",
       "  padding: 0.5em;\n",
       "  box-sizing: border-box;\n",
       "  text-align: center;\n",
       "}\n",
       "\n",
       "#sk-container-id-1 label.sk-toggleable__label-arrow:before {\n",
       "  /* Arrow on the left of the label */\n",
       "  content: \"▸\";\n",
       "  float: left;\n",
       "  margin-right: 0.25em;\n",
       "  color: var(--sklearn-color-icon);\n",
       "}\n",
       "\n",
       "#sk-container-id-1 label.sk-toggleable__label-arrow:hover:before {\n",
       "  color: var(--sklearn-color-text);\n",
       "}\n",
       "\n",
       "/* Toggleable content - dropdown */\n",
       "\n",
       "#sk-container-id-1 div.sk-toggleable__content {\n",
       "  max-height: 0;\n",
       "  max-width: 0;\n",
       "  overflow: hidden;\n",
       "  text-align: left;\n",
       "  /* unfitted */\n",
       "  background-color: var(--sklearn-color-unfitted-level-0);\n",
       "}\n",
       "\n",
       "#sk-container-id-1 div.sk-toggleable__content.fitted {\n",
       "  /* fitted */\n",
       "  background-color: var(--sklearn-color-fitted-level-0);\n",
       "}\n",
       "\n",
       "#sk-container-id-1 div.sk-toggleable__content pre {\n",
       "  margin: 0.2em;\n",
       "  border-radius: 0.25em;\n",
       "  color: var(--sklearn-color-text);\n",
       "  /* unfitted */\n",
       "  background-color: var(--sklearn-color-unfitted-level-0);\n",
       "}\n",
       "\n",
       "#sk-container-id-1 div.sk-toggleable__content.fitted pre {\n",
       "  /* unfitted */\n",
       "  background-color: var(--sklearn-color-fitted-level-0);\n",
       "}\n",
       "\n",
       "#sk-container-id-1 input.sk-toggleable__control:checked~div.sk-toggleable__content {\n",
       "  /* Expand drop-down */\n",
       "  max-height: 200px;\n",
       "  max-width: 100%;\n",
       "  overflow: auto;\n",
       "}\n",
       "\n",
       "#sk-container-id-1 input.sk-toggleable__control:checked~label.sk-toggleable__label-arrow:before {\n",
       "  content: \"▾\";\n",
       "}\n",
       "\n",
       "/* Pipeline/ColumnTransformer-specific style */\n",
       "\n",
       "#sk-container-id-1 div.sk-label input.sk-toggleable__control:checked~label.sk-toggleable__label {\n",
       "  color: var(--sklearn-color-text);\n",
       "  background-color: var(--sklearn-color-unfitted-level-2);\n",
       "}\n",
       "\n",
       "#sk-container-id-1 div.sk-label.fitted input.sk-toggleable__control:checked~label.sk-toggleable__label {\n",
       "  background-color: var(--sklearn-color-fitted-level-2);\n",
       "}\n",
       "\n",
       "/* Estimator-specific style */\n",
       "\n",
       "/* Colorize estimator box */\n",
       "#sk-container-id-1 div.sk-estimator input.sk-toggleable__control:checked~label.sk-toggleable__label {\n",
       "  /* unfitted */\n",
       "  background-color: var(--sklearn-color-unfitted-level-2);\n",
       "}\n",
       "\n",
       "#sk-container-id-1 div.sk-estimator.fitted input.sk-toggleable__control:checked~label.sk-toggleable__label {\n",
       "  /* fitted */\n",
       "  background-color: var(--sklearn-color-fitted-level-2);\n",
       "}\n",
       "\n",
       "#sk-container-id-1 div.sk-label label.sk-toggleable__label,\n",
       "#sk-container-id-1 div.sk-label label {\n",
       "  /* The background is the default theme color */\n",
       "  color: var(--sklearn-color-text-on-default-background);\n",
       "}\n",
       "\n",
       "/* On hover, darken the color of the background */\n",
       "#sk-container-id-1 div.sk-label:hover label.sk-toggleable__label {\n",
       "  color: var(--sklearn-color-text);\n",
       "  background-color: var(--sklearn-color-unfitted-level-2);\n",
       "}\n",
       "\n",
       "/* Label box, darken color on hover, fitted */\n",
       "#sk-container-id-1 div.sk-label.fitted:hover label.sk-toggleable__label.fitted {\n",
       "  color: var(--sklearn-color-text);\n",
       "  background-color: var(--sklearn-color-fitted-level-2);\n",
       "}\n",
       "\n",
       "/* Estimator label */\n",
       "\n",
       "#sk-container-id-1 div.sk-label label {\n",
       "  font-family: monospace;\n",
       "  font-weight: bold;\n",
       "  display: inline-block;\n",
       "  line-height: 1.2em;\n",
       "}\n",
       "\n",
       "#sk-container-id-1 div.sk-label-container {\n",
       "  text-align: center;\n",
       "}\n",
       "\n",
       "/* Estimator-specific */\n",
       "#sk-container-id-1 div.sk-estimator {\n",
       "  font-family: monospace;\n",
       "  border: 1px dotted var(--sklearn-color-border-box);\n",
       "  border-radius: 0.25em;\n",
       "  box-sizing: border-box;\n",
       "  margin-bottom: 0.5em;\n",
       "  /* unfitted */\n",
       "  background-color: var(--sklearn-color-unfitted-level-0);\n",
       "}\n",
       "\n",
       "#sk-container-id-1 div.sk-estimator.fitted {\n",
       "  /* fitted */\n",
       "  background-color: var(--sklearn-color-fitted-level-0);\n",
       "}\n",
       "\n",
       "/* on hover */\n",
       "#sk-container-id-1 div.sk-estimator:hover {\n",
       "  /* unfitted */\n",
       "  background-color: var(--sklearn-color-unfitted-level-2);\n",
       "}\n",
       "\n",
       "#sk-container-id-1 div.sk-estimator.fitted:hover {\n",
       "  /* fitted */\n",
       "  background-color: var(--sklearn-color-fitted-level-2);\n",
       "}\n",
       "\n",
       "/* Specification for estimator info (e.g. \"i\" and \"?\") */\n",
       "\n",
       "/* Common style for \"i\" and \"?\" */\n",
       "\n",
       ".sk-estimator-doc-link,\n",
       "a:link.sk-estimator-doc-link,\n",
       "a:visited.sk-estimator-doc-link {\n",
       "  float: right;\n",
       "  font-size: smaller;\n",
       "  line-height: 1em;\n",
       "  font-family: monospace;\n",
       "  background-color: var(--sklearn-color-background);\n",
       "  border-radius: 1em;\n",
       "  height: 1em;\n",
       "  width: 1em;\n",
       "  text-decoration: none !important;\n",
       "  margin-left: 1ex;\n",
       "  /* unfitted */\n",
       "  border: var(--sklearn-color-unfitted-level-1) 1pt solid;\n",
       "  color: var(--sklearn-color-unfitted-level-1);\n",
       "}\n",
       "\n",
       ".sk-estimator-doc-link.fitted,\n",
       "a:link.sk-estimator-doc-link.fitted,\n",
       "a:visited.sk-estimator-doc-link.fitted {\n",
       "  /* fitted */\n",
       "  border: var(--sklearn-color-fitted-level-1) 1pt solid;\n",
       "  color: var(--sklearn-color-fitted-level-1);\n",
       "}\n",
       "\n",
       "/* On hover */\n",
       "div.sk-estimator:hover .sk-estimator-doc-link:hover,\n",
       ".sk-estimator-doc-link:hover,\n",
       "div.sk-label-container:hover .sk-estimator-doc-link:hover,\n",
       ".sk-estimator-doc-link:hover {\n",
       "  /* unfitted */\n",
       "  background-color: var(--sklearn-color-unfitted-level-3);\n",
       "  color: var(--sklearn-color-background);\n",
       "  text-decoration: none;\n",
       "}\n",
       "\n",
       "div.sk-estimator.fitted:hover .sk-estimator-doc-link.fitted:hover,\n",
       ".sk-estimator-doc-link.fitted:hover,\n",
       "div.sk-label-container:hover .sk-estimator-doc-link.fitted:hover,\n",
       ".sk-estimator-doc-link.fitted:hover {\n",
       "  /* fitted */\n",
       "  background-color: var(--sklearn-color-fitted-level-3);\n",
       "  color: var(--sklearn-color-background);\n",
       "  text-decoration: none;\n",
       "}\n",
       "\n",
       "/* Span, style for the box shown on hovering the info icon */\n",
       ".sk-estimator-doc-link span {\n",
       "  display: none;\n",
       "  z-index: 9999;\n",
       "  position: relative;\n",
       "  font-weight: normal;\n",
       "  right: .2ex;\n",
       "  padding: .5ex;\n",
       "  margin: .5ex;\n",
       "  width: min-content;\n",
       "  min-width: 20ex;\n",
       "  max-width: 50ex;\n",
       "  color: var(--sklearn-color-text);\n",
       "  box-shadow: 2pt 2pt 4pt #999;\n",
       "  /* unfitted */\n",
       "  background: var(--sklearn-color-unfitted-level-0);\n",
       "  border: .5pt solid var(--sklearn-color-unfitted-level-3);\n",
       "}\n",
       "\n",
       ".sk-estimator-doc-link.fitted span {\n",
       "  /* fitted */\n",
       "  background: var(--sklearn-color-fitted-level-0);\n",
       "  border: var(--sklearn-color-fitted-level-3);\n",
       "}\n",
       "\n",
       ".sk-estimator-doc-link:hover span {\n",
       "  display: block;\n",
       "}\n",
       "\n",
       "/* \"?\"-specific style due to the `<a>` HTML tag */\n",
       "\n",
       "#sk-container-id-1 a.estimator_doc_link {\n",
       "  float: right;\n",
       "  font-size: 1rem;\n",
       "  line-height: 1em;\n",
       "  font-family: monospace;\n",
       "  background-color: var(--sklearn-color-background);\n",
       "  border-radius: 1rem;\n",
       "  height: 1rem;\n",
       "  width: 1rem;\n",
       "  text-decoration: none;\n",
       "  /* unfitted */\n",
       "  color: var(--sklearn-color-unfitted-level-1);\n",
       "  border: var(--sklearn-color-unfitted-level-1) 1pt solid;\n",
       "}\n",
       "\n",
       "#sk-container-id-1 a.estimator_doc_link.fitted {\n",
       "  /* fitted */\n",
       "  border: var(--sklearn-color-fitted-level-1) 1pt solid;\n",
       "  color: var(--sklearn-color-fitted-level-1);\n",
       "}\n",
       "\n",
       "/* On hover */\n",
       "#sk-container-id-1 a.estimator_doc_link:hover {\n",
       "  /* unfitted */\n",
       "  background-color: var(--sklearn-color-unfitted-level-3);\n",
       "  color: var(--sklearn-color-background);\n",
       "  text-decoration: none;\n",
       "}\n",
       "\n",
       "#sk-container-id-1 a.estimator_doc_link.fitted:hover {\n",
       "  /* fitted */\n",
       "  background-color: var(--sklearn-color-fitted-level-3);\n",
       "}\n",
       "</style><div id=\"sk-container-id-1\" class=\"sk-top-container\"><div class=\"sk-text-repr-fallback\"><pre>DecisionTreeRegressor()</pre><b>In a Jupyter environment, please rerun this cell to show the HTML representation or trust the notebook. <br />On GitHub, the HTML representation is unable to render, please try loading this page with nbviewer.org.</b></div><div class=\"sk-container\" hidden><div class=\"sk-item\"><div class=\"sk-estimator fitted sk-toggleable\"><input class=\"sk-toggleable__control sk-hidden--visually\" id=\"sk-estimator-id-1\" type=\"checkbox\" checked><label for=\"sk-estimator-id-1\" class=\"sk-toggleable__label fitted sk-toggleable__label-arrow fitted\">&nbsp;&nbsp;DecisionTreeRegressor<a class=\"sk-estimator-doc-link fitted\" rel=\"noreferrer\" target=\"_blank\" href=\"https://scikit-learn.org/1.5/modules/generated/sklearn.tree.DecisionTreeRegressor.html\">?<span>Documentation for DecisionTreeRegressor</span></a><span class=\"sk-estimator-doc-link fitted\">i<span>Fitted</span></span></label><div class=\"sk-toggleable__content fitted\"><pre>DecisionTreeRegressor()</pre></div> </div></div></div></div>"
      ],
      "text/plain": [
       "DecisionTreeRegressor()"
      ]
     },
     "execution_count": 88,
     "metadata": {},
     "output_type": "execute_result"
    }
   ],
   "source": [
    "from sklearn.tree import DecisionTreeRegressor\n",
    "model = DecisionTreeRegressor()\n",
    "x_train = df[['Area Code (M49)', 'Element Code', 'Item Code (CPC)', 'Year', 'Area harvested', 'Yield']]\n",
    "y_train = df['Production']\n",
    "model.fit(x_train, y_train)"
   ]
  },
  {
   "cell_type": "code",
   "execution_count": 89,
   "id": "9562cba0",
   "metadata": {},
   "outputs": [],
   "source": [
    "import pickle\n",
    "from sklearn.ensemble import RandomForestClassifier\n",
    "\n",
    "# Example model\n",
    "tree_model = DecisionTreeRegressor()\n",
    "# Assume X_train and y_train are your training data\n",
    "tree_model.fit(x_train, y_train)\n",
    "\n",
    "# Save the model to a file\n",
    "with open('tree_model.pkl', 'wb') as file:\n",
    "    pickle.dump(tree_model, file)\n"
   ]
  },
  {
   "cell_type": "code",
   "execution_count": 85,
   "id": "870daab3",
   "metadata": {},
   "outputs": [
    {
     "data": {
      "text/html": [
       "<div>\n",
       "<style scoped>\n",
       "    .dataframe tbody tr th:only-of-type {\n",
       "        vertical-align: middle;\n",
       "    }\n",
       "\n",
       "    .dataframe tbody tr th {\n",
       "        vertical-align: top;\n",
       "    }\n",
       "\n",
       "    .dataframe thead th {\n",
       "        text-align: right;\n",
       "    }\n",
       "</style>\n",
       "<table border=\"1\" class=\"dataframe\">\n",
       "  <thead>\n",
       "    <tr style=\"text-align: right;\">\n",
       "      <th>Element</th>\n",
       "      <th>Area Code (M49)</th>\n",
       "      <th>Element Code</th>\n",
       "      <th>Item Code (CPC)</th>\n",
       "      <th>Year</th>\n",
       "      <th>Area harvested</th>\n",
       "      <th>Production</th>\n",
       "      <th>Yield</th>\n",
       "    </tr>\n",
       "  </thead>\n",
       "  <tbody>\n",
       "    <tr>\n",
       "      <th>0</th>\n",
       "      <td>-1.659551</td>\n",
       "      <td>-2.928301</td>\n",
       "      <td>-0.41601</td>\n",
       "      <td>-1.406762</td>\n",
       "      <td>-0.054913</td>\n",
       "      <td>-0.049439</td>\n",
       "      <td>-0.134174</td>\n",
       "    </tr>\n",
       "    <tr>\n",
       "      <th>1</th>\n",
       "      <td>-1.659551</td>\n",
       "      <td>-2.928301</td>\n",
       "      <td>-0.41601</td>\n",
       "      <td>-0.694313</td>\n",
       "      <td>-0.054913</td>\n",
       "      <td>-0.049439</td>\n",
       "      <td>-0.134174</td>\n",
       "    </tr>\n",
       "    <tr>\n",
       "      <th>2</th>\n",
       "      <td>-1.659551</td>\n",
       "      <td>-2.928301</td>\n",
       "      <td>-0.41601</td>\n",
       "      <td>0.018136</td>\n",
       "      <td>-0.054913</td>\n",
       "      <td>-0.049439</td>\n",
       "      <td>-0.134174</td>\n",
       "    </tr>\n",
       "    <tr>\n",
       "      <th>3</th>\n",
       "      <td>-1.659551</td>\n",
       "      <td>-2.928301</td>\n",
       "      <td>-0.41601</td>\n",
       "      <td>0.730585</td>\n",
       "      <td>-0.054913</td>\n",
       "      <td>-0.049439</td>\n",
       "      <td>-0.134174</td>\n",
       "    </tr>\n",
       "    <tr>\n",
       "      <th>4</th>\n",
       "      <td>-1.659551</td>\n",
       "      <td>-2.928301</td>\n",
       "      <td>-0.41601</td>\n",
       "      <td>1.443035</td>\n",
       "      <td>-0.054913</td>\n",
       "      <td>-0.049439</td>\n",
       "      <td>-0.134174</td>\n",
       "    </tr>\n",
       "  </tbody>\n",
       "</table>\n",
       "</div>"
      ],
      "text/plain": [
       "Element  Area Code (M49)  Element Code  Item Code (CPC)      Year  \\\n",
       "0              -1.659551     -2.928301         -0.41601 -1.406762   \n",
       "1              -1.659551     -2.928301         -0.41601 -0.694313   \n",
       "2              -1.659551     -2.928301         -0.41601  0.018136   \n",
       "3              -1.659551     -2.928301         -0.41601  0.730585   \n",
       "4              -1.659551     -2.928301         -0.41601  1.443035   \n",
       "\n",
       "Element  Area harvested  Production     Yield  \n",
       "0             -0.054913   -0.049439 -0.134174  \n",
       "1             -0.054913   -0.049439 -0.134174  \n",
       "2             -0.054913   -0.049439 -0.134174  \n",
       "3             -0.054913   -0.049439 -0.134174  \n",
       "4             -0.054913   -0.049439 -0.134174  "
      ]
     },
     "execution_count": 85,
     "metadata": {},
     "output_type": "execute_result"
    }
   ],
   "source": [
    "df.head()"
   ]
  },
  {
   "cell_type": "code",
   "execution_count": 86,
   "id": "3b846ebd",
   "metadata": {},
   "outputs": [
    {
     "data": {
      "text/html": [
       "<div>\n",
       "<style scoped>\n",
       "    .dataframe tbody tr th:only-of-type {\n",
       "        vertical-align: middle;\n",
       "    }\n",
       "\n",
       "    .dataframe tbody tr th {\n",
       "        vertical-align: top;\n",
       "    }\n",
       "\n",
       "    .dataframe thead th {\n",
       "        text-align: right;\n",
       "    }\n",
       "</style>\n",
       "<table border=\"1\" class=\"dataframe\">\n",
       "  <thead>\n",
       "    <tr style=\"text-align: right;\">\n",
       "      <th>Element</th>\n",
       "      <th>Area Code (M49)</th>\n",
       "      <th>Element Code</th>\n",
       "      <th>Item Code (CPC)</th>\n",
       "      <th>Year</th>\n",
       "      <th>Area harvested</th>\n",
       "      <th>Production</th>\n",
       "      <th>Yield</th>\n",
       "    </tr>\n",
       "  </thead>\n",
       "  <tbody>\n",
       "    <tr>\n",
       "      <th>218119</th>\n",
       "      <td>1.841158</td>\n",
       "      <td>1.050663</td>\n",
       "      <td>-0.648426</td>\n",
       "      <td>-1.406762</td>\n",
       "      <td>-0.054913</td>\n",
       "      <td>0.119419</td>\n",
       "      <td>-0.134174</td>\n",
       "    </tr>\n",
       "    <tr>\n",
       "      <th>218120</th>\n",
       "      <td>1.841158</td>\n",
       "      <td>1.050663</td>\n",
       "      <td>-0.648426</td>\n",
       "      <td>-0.694313</td>\n",
       "      <td>-0.054913</td>\n",
       "      <td>0.120860</td>\n",
       "      <td>-0.134174</td>\n",
       "    </tr>\n",
       "    <tr>\n",
       "      <th>218121</th>\n",
       "      <td>1.841158</td>\n",
       "      <td>1.050663</td>\n",
       "      <td>-0.648426</td>\n",
       "      <td>0.018136</td>\n",
       "      <td>-0.054913</td>\n",
       "      <td>0.121052</td>\n",
       "      <td>-0.134174</td>\n",
       "    </tr>\n",
       "    <tr>\n",
       "      <th>218122</th>\n",
       "      <td>1.841158</td>\n",
       "      <td>1.050663</td>\n",
       "      <td>-0.648426</td>\n",
       "      <td>0.730585</td>\n",
       "      <td>-0.054913</td>\n",
       "      <td>0.121062</td>\n",
       "      <td>-0.134174</td>\n",
       "    </tr>\n",
       "    <tr>\n",
       "      <th>218123</th>\n",
       "      <td>1.841158</td>\n",
       "      <td>1.050663</td>\n",
       "      <td>-0.648426</td>\n",
       "      <td>1.443035</td>\n",
       "      <td>-0.054913</td>\n",
       "      <td>0.121062</td>\n",
       "      <td>-0.134174</td>\n",
       "    </tr>\n",
       "  </tbody>\n",
       "</table>\n",
       "</div>"
      ],
      "text/plain": [
       "Element  Area Code (M49)  Element Code  Item Code (CPC)      Year  \\\n",
       "218119          1.841158      1.050663        -0.648426 -1.406762   \n",
       "218120          1.841158      1.050663        -0.648426 -0.694313   \n",
       "218121          1.841158      1.050663        -0.648426  0.018136   \n",
       "218122          1.841158      1.050663        -0.648426  0.730585   \n",
       "218123          1.841158      1.050663        -0.648426  1.443035   \n",
       "\n",
       "Element  Area harvested  Production     Yield  \n",
       "218119        -0.054913    0.119419 -0.134174  \n",
       "218120        -0.054913    0.120860 -0.134174  \n",
       "218121        -0.054913    0.121052 -0.134174  \n",
       "218122        -0.054913    0.121062 -0.134174  \n",
       "218123        -0.054913    0.121062 -0.134174  "
      ]
     },
     "execution_count": 86,
     "metadata": {},
     "output_type": "execute_result"
    }
   ],
   "source": [
    "df.tail()"
   ]
  },
  {
   "cell_type": "code",
   "execution_count": 87,
   "id": "1894413f",
   "metadata": {},
   "outputs": [
    {
     "ename": "NameError",
     "evalue": "name 'model_X' is not defined",
     "output_type": "error",
     "traceback": [
      "\u001b[1;31m---------------------------------------------------------------------------\u001b[0m",
      "\u001b[1;31mNameError\u001b[0m                                 Traceback (most recent call last)",
      "Cell \u001b[1;32mIn[87], line 2\u001b[0m\n\u001b[0;32m      1\u001b[0m input_data \u001b[38;5;241m=\u001b[39m [[\u001b[38;5;241m894\u001b[39m,\u001b[38;5;241m5513\u001b[39m,\u001b[38;5;241m231\u001b[39m,\u001b[38;5;241m2023\u001b[39m,\u001b[38;5;241m171284.52\u001b[39m,\u001b[38;5;241m13298.88\u001b[39m]] \n\u001b[1;32m----> 2\u001b[0m y_pred_l \u001b[38;5;241m=\u001b[39m model_X\u001b[38;5;241m.\u001b[39mpredict(input_data)\n\u001b[0;32m      3\u001b[0m y_pred_l\n",
      "\u001b[1;31mNameError\u001b[0m: name 'model_X' is not defined"
     ]
    }
   ],
   "source": [
    "input_data = [[894,5513,231,2023,171284.52,13298.88]] \n",
    "y_pred_l = model_X.predict(input_data)\n",
    "y_pred_l"
   ]
  },
  {
   "cell_type": "code",
   "execution_count": null,
   "id": "934d7e18",
   "metadata": {},
   "outputs": [
    {
     "name": "stderr",
     "output_type": "stream",
     "text": [
      "c:\\ProgramData\\anaconda3\\Lib\\site-packages\\sklearn\\base.py:493: UserWarning: X does not have valid feature names, but RandomForestRegressor was fitted with feature names\n",
      "  warnings.warn(\n"
     ]
    },
    {
     "data": {
      "text/plain": [
       "array([-0.03989331])"
      ]
     },
     "execution_count": 210,
     "metadata": {},
     "output_type": "execute_result"
    }
   ],
   "source": [
    "input_data = [[4,5111,2111,2020,171284.52,13298.88]]\n",
    "y_pred_l = model_X.predict(input_data)\n",
    "y_pred_l"
   ]
  },
  {
   "cell_type": "code",
   "execution_count": null,
   "id": "6dc54f4a",
   "metadata": {},
   "outputs": [
    {
     "data": {
      "text/plain": [
       "(218124, 7)"
      ]
     },
     "execution_count": 109,
     "metadata": {},
     "output_type": "execute_result"
    }
   ],
   "source": [
    "df.shape"
   ]
  },
  {
   "cell_type": "code",
   "execution_count": null,
   "id": "66b550e8",
   "metadata": {},
   "outputs": [
    {
     "data": {
      "text/plain": [
       "(217627, 6)"
      ]
     },
     "execution_count": 112,
     "metadata": {},
     "output_type": "execute_result"
    }
   ],
   "source": [
    "x.shape"
   ]
  },
  {
   "cell_type": "code",
   "execution_count": null,
   "id": "a93a24b8",
   "metadata": {},
   "outputs": [
    {
     "data": {
      "text/plain": [
       "(217627,)"
      ]
     },
     "execution_count": 113,
     "metadata": {},
     "output_type": "execute_result"
    }
   ],
   "source": [
    "y.shape"
   ]
  },
  {
   "cell_type": "code",
   "execution_count": null,
   "id": "6e6b343d",
   "metadata": {},
   "outputs": [],
   "source": []
  },
  {
   "cell_type": "code",
   "execution_count": null,
   "id": "54f119f6",
   "metadata": {},
   "outputs": [],
   "source": []
  }
 ],
 "metadata": {
  "kernelspec": {
   "display_name": "base",
   "language": "python",
   "name": "python3"
  },
  "language_info": {
   "codemirror_mode": {
    "name": "ipython",
    "version": 3
   },
   "file_extension": ".py",
   "mimetype": "text/x-python",
   "name": "python",
   "nbconvert_exporter": "python",
   "pygments_lexer": "ipython3",
   "version": "3.12.7"
  }
 },
 "nbformat": 4,
 "nbformat_minor": 5
}
